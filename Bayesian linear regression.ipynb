{
 "cells": [
  {
   "cell_type": "code",
   "execution_count": 1,
   "metadata": {
    "collapsed": true
   },
   "outputs": [],
   "source": [
    "%matplotlib inline \n",
    "import numpy as np\n",
    "from numpy.linalg import inv\n",
    "from matplotlib import pyplot as plt\n",
    "\n",
    "np.random.seed(0)"
   ]
  },
  {
   "cell_type": "markdown",
   "metadata": {},
   "source": [
    "### Process training and test data\n",
    "\n",
    "- load data\n",
    "- split into samples and labels for training and test data"
   ]
  },
  {
   "cell_type": "code",
   "execution_count": 2,
   "metadata": {
    "collapsed": true
   },
   "outputs": [],
   "source": [
    "# read data into program\n",
    "\n",
    "## read larger data\n",
    "# training_dataset = np.load('train.npy')\n",
    "# test_dataset = np.load('test.npy')\n",
    "\n",
    "# read smaller data\n",
    "training_dataset = np.load('train_small.npz')\n",
    "test_dataset = np.load('test_small.npz')"
   ]
  },
  {
   "cell_type": "code",
   "execution_count": 3,
   "metadata": {
    "collapsed": false
   },
   "outputs": [
    {
     "name": "stdout",
     "output_type": "stream",
     "text": [
      "X_train shape:  (24000, 2048)\n",
      "Y_train shape:  (24000,)\n"
     ]
    }
   ],
   "source": [
    "# get training data\n",
    "# X_train = training_dataset[()]['train_x']\n",
    "# Y_train = training_dataset[()]['train_labels']\n",
    "X_train = training_dataset['train_x']\n",
    "Y_train = training_dataset['train_labels']\n",
    "\n",
    "\n",
    "N,D = X_train.shape\n",
    "\n",
    "print(\"X_train shape: \", X_train.shape)\n",
    "print(\"Y_train shape: \", Y_train.shape)"
   ]
  },
  {
   "cell_type": "code",
   "execution_count": 4,
   "metadata": {
    "collapsed": false
   },
   "outputs": [
    {
     "name": "stdout",
     "output_type": "stream",
     "text": [
      "X_test shape:  (1000, 2048)\n",
      "Y_test shape:  (1000,)\n"
     ]
    }
   ],
   "source": [
    "# get test data\n",
    "# X_test = test_dataset[()]['test_x']\n",
    "# Y_test = test_dataset[()]['test_labels']\n",
    "X_test = test_dataset['test_x']\n",
    "Y_test = test_dataset['test_labels']\n",
    "\n",
    "N_test,D_test = X_test.shape\n",
    "\n",
    "print(\"X_test shape: \", X_test.shape)\n",
    "print(\"Y_test shape: \", Y_test.shape)"
   ]
  },
  {
   "cell_type": "code",
   "execution_count": 5,
   "metadata": {
    "collapsed": false
   },
   "outputs": [
    {
     "name": "stdout",
     "output_type": "stream",
     "text": [
      "choose 12000 samples from the training set\n",
      "x_train shape:  (12000, 2048)\n",
      "y_train shape:  (12000,)\n",
      "12000 2048\n"
     ]
    }
   ],
   "source": [
    "# sample from training data\n",
    "\n",
    "# choose how many samples to sample\n",
    "n_sample_train = 0.5\n",
    "\n",
    "# get index\n",
    "idx_train = np.random.choice(N, int(n_sample_train*N), replace=False)\n",
    "\n",
    "# map index to rows\n",
    "x_train = X_train[idx_train,:]\n",
    "y_train = Y_train[idx_train]\n",
    "\n",
    "# centerize training data\n",
    "# x_train = x_train - np.mean( x_train, axis=0 )\n",
    "\n",
    "# deal with labels to -1 and 1\n",
    "y_train[ y_train <0.5 ] = -1\n",
    "\n",
    "n,d = x_train.shape\n",
    "\n",
    "print(\"choose {} samples from the training set\".format(int(n_sample_train*N)))\n",
    "print(\"x_train shape: \", x_train.shape)\n",
    "print(\"y_train shape: \", y_train.shape)\n",
    "print(n,d)"
   ]
  },
  {
   "cell_type": "code",
   "execution_count": 6,
   "metadata": {
    "collapsed": false
   },
   "outputs": [
    {
     "name": "stdout",
     "output_type": "stream",
     "text": [
      "choose 1000 samples from the test set\n",
      "x_test:  (1000, 2048)\n",
      "y_test:  (1000,)\n",
      "1000 2048\n"
     ]
    }
   ],
   "source": [
    "# sample from test data\n",
    "\n",
    "# choose how many samples to sample\n",
    "n_sample_test = 1\n",
    "# get index\n",
    "idx_test = np.random.choice(N_test, int(n_sample_test*N_test), replace=False)\n",
    "\n",
    "# map index to rows\n",
    "x_test = X_test[idx_test,:]\n",
    "y_test = Y_test[idx_test]\n",
    "\n",
    "# x_test = x_test - np.mean( x_test, axis=0 )\n",
    "\n",
    "y_test[ y_test<0.5 ] = -1\n",
    "\n",
    "n_test, d_test = x_test.shape\n",
    "\n",
    "print(\"choose {} samples from the test set\".format(int(n_sample_test*N_test)))\n",
    "print(\"x_test: \", x_test.shape)\n",
    "print(\"y_test: \", y_test.shape)\n",
    "print(n_test, d_test)"
   ]
  },
  {
   "cell_type": "markdown",
   "metadata": {},
   "source": [
    "### Feature Selections\n",
    "- [x] PCA\n",
    "- [] SVD"
   ]
  },
  {
   "cell_type": "code",
   "execution_count": 7,
   "metadata": {
    "collapsed": false
   },
   "outputs": [],
   "source": [
    "# feature selection using PCA\n",
    "\n",
    "# cov_training = np.cov( x_train )\n",
    "# eigenValues_training, eigenVectors_training = np.linalg.eig( cov_training )\n",
    "# print( eigenValues_training.shape )\n",
    "# print( eigenVectors_training.shape)\n",
    "\n",
    "# eigen_ind = eigenValues_training.argsort()[::-1]\n",
    "# eigenValues_training = eigenValues_training[eigen_ind]\n",
    "# eigenVectors_training = eigenVectors_training[:, eigen_ind]\n",
    "# print(eigenValues_training)"
   ]
  },
  {
   "cell_type": "code",
   "execution_count": 8,
   "metadata": {
    "collapsed": false
   },
   "outputs": [],
   "source": [
    "# # draw eigen values\n",
    "# plt.plot( eigenValues_training[:200] )\n",
    "# plt.ylabel( \"eigen values\" )\n",
    "# plt.show()"
   ]
  },
  {
   "cell_type": "code",
   "execution_count": 9,
   "metadata": {
    "collapsed": false
   },
   "outputs": [
    {
     "name": "stdout",
     "output_type": "stream",
     "text": [
      "U (12000, 2048)\n",
      "s (2048,)\n",
      "V (2048, 2048)\n"
     ]
    }
   ],
   "source": [
    "# do feature selection using SVD\n",
    "\n",
    "U, s, V = np.linalg.svd(x_train, full_matrices=False)\n",
    "print(\"U\", U.shape)\n",
    "print(\"s\", s.shape)\n",
    "print(\"V\", V.shape)"
   ]
  },
  {
   "cell_type": "code",
   "execution_count": 10,
   "metadata": {
    "collapsed": false
   },
   "outputs": [
    {
     "data": {
      "image/png": "[encoded data removed]",
      "text/plain": [
       "<matplotlib.figure.Figure at 0x221401c6a58>"
      ]
     },
     "metadata": {},
     "output_type": "display_data"
    }
   ],
   "source": [
    "# draw s values\n",
    "plt.plot( s[:500] )\n",
    "plt.ylabel( \"s values\" )\n",
    "plt.show()"
   ]
  },
  {
   "cell_type": "code",
   "execution_count": 11,
   "metadata": {
    "collapsed": false
   },
   "outputs": [
    {
     "name": "stdout",
     "output_type": "stream",
     "text": [
      "x_train shape: (12000, 2048)\n"
     ]
    }
   ],
   "source": [
    "# get new dataset with selected features\n",
    "n_FS_SVD = 200\n",
    "s[n_FS_SVD:] = 0\n",
    "S = np.diag(s)\n",
    "# x_train = U@S@V\n",
    "x_train = U[:,:n_FS_SVD]@S[:n_FS_SVD,:n_FS_SVD]@V[:n_FS_SVD,:]\n",
    "print(\"x_train shape:\", x_train.shape)"
   ]
  },
  {
   "cell_type": "code",
   "execution_count": 12,
   "metadata": {
    "collapsed": false
   },
   "outputs": [
    {
     "name": "stdout",
     "output_type": "stream",
     "text": [
      "0.523\n"
     ]
    }
   ],
   "source": [
    "# get baseline\n",
    "positive_rate_test = sum(y_test == 1)/n_test\n",
    "baseline = positive_rate_test if positive_rate_test >= 0.5 else 1-positive_rate_test\n",
    "print(baseline)"
   ]
  },
  {
   "cell_type": "markdown",
   "metadata": {},
   "source": [
    "### experiment on toy dataset"
   ]
  },
  {
   "cell_type": "code",
   "execution_count": 13,
   "metadata": {
    "collapsed": true
   },
   "outputs": [],
   "source": [
    "# # toy training dataset\n",
    "# dataset = [\n",
    "#     [1,2,3,4,5],\n",
    "#     [1,3,4,5,6],\n",
    "#     [1,3,4,5,3],\n",
    "#     [1,1,2,3,3],\n",
    "#     [0,1,5,4,5],\n",
    "#     [0,3,5,1,3],\n",
    "#     [0,2,3,5,1]\n",
    "# ]\n",
    "\n",
    "# data = np.array(dataset)"
   ]
  },
  {
   "cell_type": "code",
   "execution_count": 14,
   "metadata": {
    "collapsed": true
   },
   "outputs": [],
   "source": [
    "# # split toy training data into samples and labels\n",
    "\n",
    "# x_train = data[:,1:]\n",
    "# y_train = data[:,0]\n",
    "\n",
    "# # get the size of the data\n",
    "# N,D = x_train.shape\n",
    "\n",
    "# print(\"Data has {} samples and {} features\".format(N, D))\n",
    "# print(\"training data size:\", x_train.shape)\n",
    "# print(\"training label:\", y_train.shape)"
   ]
  },
  {
   "cell_type": "code",
   "execution_count": 15,
   "metadata": {
    "collapsed": true
   },
   "outputs": [],
   "source": [
    "# # test data\n",
    "# dataset_test = [\n",
    "#     [1,4,5,63,5],\n",
    "#     [1,7,22,1,4],\n",
    "#     [0,3,4,1,5],\n",
    "#     [0,66,3,2,1]\n",
    "# ]\n",
    "\n",
    "# data_test = np.array(dataset_test)"
   ]
  },
  {
   "cell_type": "code",
   "execution_count": 16,
   "metadata": {
    "collapsed": true
   },
   "outputs": [],
   "source": [
    "# # split test data into samples and labels\n",
    "\n",
    "# x_test = data_test[:,1:]\n",
    "# y_test = data_test[:,0]\n",
    "\n",
    "# # get the size of the data\n",
    "# N_test,D_test = x_test.shape\n",
    "\n",
    "# print(\"Data has {} samples and {} features\".format(N_test, D_test))\n",
    "# print(\"test data size:\", x_test.shape)\n",
    "# print(\"test label:\", y_test.shape)"
   ]
  },
  {
   "cell_type": "markdown",
   "metadata": {},
   "source": [
    "### Initialize parameters \n",
    "- weight\n",
    "    - mu\n",
    "    - sigma\n",
    "- noise"
   ]
  },
  {
   "cell_type": "code",
   "execution_count": null,
   "metadata": {
    "collapsed": false
   },
   "outputs": [
    {
     "name": "stdout",
     "output_type": "stream",
     "text": [
      "w_mu size:    (2048,)\n",
      "w_sigma size: (2048, 2048)\n"
     ]
    }
   ],
   "source": [
    "# Initialize Weight\n",
    "w_mu = np.zeros(d)\n",
    "w_sigma = np.eye(d)\n",
    "\n",
    "#Intialize noise\n",
    "sigma_square = 0.1**2\n",
    "\n",
    "print(\"w_mu size:   \", w_mu.shape)\n",
    "print(\"w_sigma size:\", w_sigma.shape)"
   ]
  },
  {
   "cell_type": "markdown",
   "metadata": {},
   "source": [
    "### posterior"
   ]
  },
  {
   "cell_type": "code",
   "execution_count": null,
   "metadata": {
    "collapsed": false
   },
   "outputs": [],
   "source": [
    "# posterior\n",
    "w_mu_posterior = w_mu + \\\n",
    "                    w_sigma@x_train.T @ \\\n",
    "                    inv(x_train@w_sigma@x_train.T + sigma_square*np.eye(n)) @ \\\n",
    "                    (y_train - x_train@w_mu)\n",
    "w_sigma_posterior = w_sigma - \\\n",
    "                    w_sigma@x_train.T @ \\\n",
    "                    inv(x_train@w_sigma@x_train.T + sigma_square*np.eye(n)) @x_train@w_sigma\n",
    "    \n",
    "print(\"w_mu_posterior: \", w_mu_posterior)\n",
    "print(\"w_sigma_posterior: \", w_sigma_posterior)"
   ]
  },
  {
   "cell_type": "markdown",
   "metadata": {},
   "source": [
    "### predictions"
   ]
  },
  {
   "cell_type": "code",
   "execution_count": null,
   "metadata": {
    "collapsed": false
   },
   "outputs": [],
   "source": [
    "# prediction\n",
    "y_star_mu_posterior = x_test@w_mu_posterior\n",
    "y_star_sigma_posterior = x_test@w_sigma_posterior@x_test.T + \\\n",
    "                            sigma_square*np.eye(n_test)\n",
    "\n",
    "var = np.sqrt(y_star_sigma_posterior.diagonal())\n",
    "\n",
    "print(\"y_star_mu_posterior: \", y_star_mu_posterior)\n",
    "print(\"y_star_sigma_posterior: \", y_star_sigma_posterior)\n",
    "print(\"var: \", var)"
   ]
  },
  {
   "cell_type": "markdown",
   "metadata": {},
   "source": [
    "### experiment on prediction result"
   ]
  },
  {
   "cell_type": "code",
   "execution_count": null,
   "metadata": {
    "collapsed": false
   },
   "outputs": [],
   "source": [
    "# fixed threshold\n",
    "\n",
    "# get the prediction\n",
    "threshold = 0\n",
    "\n",
    "predictions = y_star_mu_posterior.copy()\n",
    "predictions[ predictions<threshold ] = -1\n",
    "predictions[ predictions>=threshold ] = 1\n",
    "\n",
    "# compare predictions to true label\n",
    "n_correct = sum(predictions == y_test)\n",
    "\n",
    "print(\"accuaracy = \", n_correct/n_test)"
   ]
  },
  {
   "cell_type": "code",
   "execution_count": null,
   "metadata": {
    "collapsed": false
   },
   "outputs": [],
   "source": [
    "# find best threshold\n",
    "max_correct, best_threshold = 0, 0\n",
    "record_correct = []\n",
    "for threshold in np.arange(-2,2,0.1):\n",
    "    predictions = y_star_mu_posterior.copy()\n",
    "    predictions[ predictions<threshold ] = -1\n",
    "    predictions[ predictions>=threshold ] = 1\n",
    "    n_correct = sum(predictions == y_test)\n",
    "    record_correct.append( n_correct )\n",
    "    if n_correct > max_correct:\n",
    "        max_correct = n_correct\n",
    "        best_threshold = threshold\n",
    "    \n",
    "record_correct = np.array( record_correct )\n",
    "print( \"best accuracy is : \", max_correct/n_test )\n",
    "print( \"best threshold is: \", best_threshold )"
   ]
  },
  {
   "cell_type": "code",
   "execution_count": null,
   "metadata": {
    "collapsed": false
   },
   "outputs": [],
   "source": [
    "# plot record of correctness w.r.t threshold\n",
    "print(record_correct)\n",
    "# print(record_correct)\n",
    "plt.plot(np.arange(-2,2,0.1), record_correct/n_test)"
   ]
  },
  {
   "cell_type": "code",
   "execution_count": null,
   "metadata": {
    "collapsed": false
   },
   "outputs": [],
   "source": [
    "# plot\n",
    "x_index = [i for i in range(n_test)]\n",
    "plt.scatter(x_index, y_test, c='r', s=50, zorder=10)\n",
    "plt.plot(x_index, y_star_mu_posterior,'k', lw=3, zorder=9)\n",
    "plt.fill_between(x_index, y_star_mu_posterior - 2*var, y_star_mu_posterior + 2*var, alpha=0.5, color='k')"
   ]
  }
 ],
 "metadata": {
  "kernelspec": {
   "display_name": "Python 3",
   "language": "python",
   "name": "python3"
  },
  "language_info": {
   "codemirror_mode": {
    "name": "ipython",
    "version": 3
   },
   "file_extension": ".py",
   "mimetype": "text/x-python",
   "name": "python",
   "nbconvert_exporter": "python",
   "pygments_lexer": "ipython3",
   "version": "3.6.0"
  }
 },
 "nbformat": 4,
 "nbformat_minor": 2
}
