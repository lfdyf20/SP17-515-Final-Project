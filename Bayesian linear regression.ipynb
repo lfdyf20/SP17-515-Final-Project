{
 "cells": [
  {
   "cell_type": "code",
   "execution_count": null,
   "metadata": {
    "collapsed": true
   },
   "outputs": [],
   "source": [
    "%matplotlib inline \n",
    "import numpy as np\n",
    "from numpy.linalg import inv\n",
    "from matplotlib import pyplot as plt\n",
    "\n",
    "np.random.seed(0)"
   ]
  },
  {
   "cell_type": "markdown",
   "metadata": {},
   "source": [
    "### Process training and test data\n",
    "\n",
    "- load data\n",
    "- split into samples and labels for training and test data"
   ]
  },
  {
   "cell_type": "code",
   "execution_count": 2,
   "metadata": {
    "collapsed": true
   },
   "outputs": [],
   "source": [
    "# read data into program\n",
    "\n",
    "## read larger data\n",
    "# training_dataset = np.load('train.npy')\n",
    "# test_dataset = np.load('test.npy')\n",
    "\n",
    "# read smaller data\n",
    "training_dataset = np.load('train_small.npz')\n",
    "test_dataset = np.load('test_small.npz')"
   ]
  },
  {
   "cell_type": "code",
   "execution_count": 3,
   "metadata": {
    "collapsed": false
   },
   "outputs": [
    {
     "name": "stdout",
     "output_type": "stream",
     "text": [
      "X_train shape:  (24000, 2048)\n",
      "Y_train shape:  (24000,)\n"
     ]
    }
   ],
   "source": [
    "# get training data\n",
    "# X_train = training_dataset[()]['train_x']\n",
    "# Y_train = training_dataset[()]['train_labels']\n",
    "X_train = training_dataset['train_x']\n",
    "Y_train = training_dataset['train_labels']\n",
    "\n",
    "\n",
    "N,D = X_train.shape\n",
    "\n",
    "print(\"X_train shape: \", X_train.shape)\n",
    "print(\"Y_train shape: \", Y_train.shape)"
   ]
  },
  {
   "cell_type": "code",
   "execution_count": 4,
   "metadata": {
    "collapsed": false
   },
   "outputs": [
    {
     "name": "stdout",
     "output_type": "stream",
     "text": [
      "X_test shape:  (1000, 2048)\n",
      "Y_test shape:  (1000,)\n"
     ]
    }
   ],
   "source": [
    "# get test data\n",
    "# X_test = test_dataset[()]['test_x']\n",
    "# Y_test = test_dataset[()]['test_labels']\n",
    "X_test = test_dataset['test_x']\n",
    "Y_test = test_dataset['test_labels']\n",
    "\n",
    "N_test,D_test = X_test.shape\n",
    "\n",
    "print(\"X_test shape: \", X_test.shape)\n",
    "print(\"Y_test shape: \", Y_test.shape)"
   ]
  },
  {
   "cell_type": "code",
   "execution_count": 21,
   "metadata": {
    "collapsed": false
   },
   "outputs": [
    {
     "name": "stdout",
     "output_type": "stream",
     "text": [
      "choose 24000 samples from the training set\n",
      "x_train shape:  (24000, 2048)\n",
      "y_train shape:  (24000,)\n",
      "24000 2048\n"
     ]
    }
   ],
   "source": [
    "# sample from training data\n",
    "\n",
    "# choose how many samples to sample\n",
    "n_sample_train = 1\n",
    "\n",
    "# get index\n",
    "idx_train = np.random.choice(N, int(n_sample_train*N), replace=False)\n",
    "\n",
    "# map index to rows\n",
    "x_train = X_train[idx_train,:]\n",
    "y_train = Y_train[idx_train]\n",
    "\n",
    "# centerize training data\n",
    "# x_train = x_train - np.mean( x_train, axis=0 )\n",
    "\n",
    "# deal with labels to -1 and 1\n",
    "y_train[ y_train <0.5 ] = -1\n",
    "\n",
    "n,d = x_train.shape\n",
    "\n",
    "print(\"choose {} samples from the training set\".format(int(n_sample_train*N)))\n",
    "print(\"x_train shape: \", x_train.shape)\n",
    "print(\"y_train shape: \", y_train.shape)\n",
    "print(n,d)"
   ]
  },
  {
   "cell_type": "code",
   "execution_count": 25,
   "metadata": {
    "collapsed": false
   },
   "outputs": [
    {
     "name": "stdout",
     "output_type": "stream",
     "text": [
      "choose 1000 samples from the test set\n",
      "x_test:  (1000, 2048)\n",
      "y_test:  (1000,)\n",
      "1000 2048\n"
     ]
    }
   ],
   "source": [
    "# sample from test data\n",
    "\n",
    "# choose how many samples to sample\n",
    "n_sample_test = 1\n",
    "# get index\n",
    "idx_test = np.random.choice(N_test, int(n_sample_test*N_test), replace=False)\n",
    "\n",
    "# map index to rows\n",
    "x_test = X_test[idx_test,:]\n",
    "y_test = Y_test[idx_test]\n",
    "\n",
    "# x_test = x_test - np.mean( x_test, axis=0 )\n",
    "\n",
    "y_test[ y_test<0.5 ] = -1\n",
    "\n",
    "n_test, d_test = x_test.shape\n",
    "\n",
    "print(\"choose {} samples from the test set\".format(int(n_sample_test*N_test)))\n",
    "print(\"x_test: \", x_test.shape)\n",
    "print(\"y_test: \", y_test.shape)\n",
    "print(n_test, d_test)"
   ]
  },
  {
   "cell_type": "markdown",
   "metadata": {},
   "source": [
    "### Feature Selections\n",
    "- [x] PCA\n",
    "- [] SVD"
   ]
  },
  {
   "cell_type": "code",
   "execution_count": null,
   "metadata": {
    "collapsed": false
   },
   "outputs": [],
   "source": [
    "# feature selection using PCA\n",
    "\n",
    "# cov_training = np.cov( x_train )\n",
    "# eigenValues_training, eigenVectors_training = np.linalg.eig( cov_training )\n",
    "# print( eigenValues_training.shape )\n",
    "# print( eigenVectors_training.shape)\n",
    "\n",
    "# eigen_ind = eigenValues_training.argsort()[::-1]\n",
    "# eigenValues_training = eigenValues_training[eigen_ind]\n",
    "# eigenVectors_training = eigenVectors_training[:, eigen_ind]\n",
    "# print(eigenValues_training)"
   ]
  },
  {
   "cell_type": "code",
   "execution_count": null,
   "metadata": {
    "collapsed": false
   },
   "outputs": [],
   "source": [
    "# # draw eigen values\n",
    "# plt.plot( eigenValues_training[:200] )\n",
    "# plt.ylabel( \"eigen values\" )\n",
    "# plt.show()"
   ]
  },
  {
   "cell_type": "code",
   "execution_count": 22,
   "metadata": {
    "collapsed": false
   },
   "outputs": [
    {
     "name": "stdout",
     "output_type": "stream",
     "text": [
      "U (24000, 2048)\n",
      "s (2048,)\n",
      "V (2048, 2048)\n"
     ]
    }
   ],
   "source": [
    "# do feature selection using SVD\n",
    "\n",
    "U, s, V = np.linalg.svd(x_train, full_matrices=False)\n",
    "print(\"U\", U.shape)\n",
    "print(\"s\", s.shape)\n",
    "print(\"V\", V.shape)"
   ]
  },
  {
   "cell_type": "code",
   "execution_count": 9,
   "metadata": {
    "collapsed": false
   },
   "outputs": [
    {
     "data": {
      "image/png": "[encoded data removed]",
      "text/plain": [
       "<matplotlib.figure.Figure at 0x20edb697780>"
      ]
     },
     "metadata": {},
     "output_type": "display_data"
    }
   ],
   "source": [
    "# draw s values\n",
    "plt.plot( s[:500] )\n",
    "plt.ylabel( \"s values\" )\n",
    "plt.show()"
   ]
  },
  {
   "cell_type": "code",
   "execution_count": 23,
   "metadata": {
    "collapsed": false
   },
   "outputs": [
    {
     "name": "stdout",
     "output_type": "stream",
     "text": [
      "x_train shape: (24000, 2048)\n"
     ]
    }
   ],
   "source": [
    "# get new dataset with selected features\n",
    "n_FS_SVD = 200\n",
    "s[n_FS_SVD:] = 0\n",
    "S = np.diag(s)\n",
    "# x_train = U@S@V\n",
    "x_train = U[:,:n_FS_SVD]@S[:n_FS_SVD,:n_FS_SVD]@V[:n_FS_SVD,:]\n",
    "print(\"x_train shape:\", x_train.shape)"
   ]
  },
  {
   "cell_type": "code",
   "execution_count": 26,
   "metadata": {
    "collapsed": false
   },
   "outputs": [
    {
     "name": "stdout",
     "output_type": "stream",
     "text": [
      "0.523\n"
     ]
    }
   ],
   "source": [
    "# get baseline\n",
    "positive_rate_test = sum(y_test == 1)/n_test\n",
    "baseline = positive_rate_test if positive_rate_test >= 0.5 else 1-positive_rate_test\n",
    "print(baseline)"
   ]
  },
  {
   "cell_type": "markdown",
   "metadata": {},
   "source": [
    "### experiment on toy dataset"
   ]
  },
  {
   "cell_type": "code",
   "execution_count": null,
   "metadata": {
    "collapsed": true
   },
   "outputs": [],
   "source": [
    "# # toy training dataset\n",
    "# dataset = [\n",
    "#     [1,2,3,4,5],\n",
    "#     [1,3,4,5,6],\n",
    "#     [1,3,4,5,3],\n",
    "#     [1,1,2,3,3],\n",
    "#     [0,1,5,4,5],\n",
    "#     [0,3,5,1,3],\n",
    "#     [0,2,3,5,1]\n",
    "# ]\n",
    "\n",
    "# data = np.array(dataset)"
   ]
  },
  {
   "cell_type": "code",
   "execution_count": null,
   "metadata": {
    "collapsed": true
   },
   "outputs": [],
   "source": [
    "# # split toy training data into samples and labels\n",
    "\n",
    "# x_train = data[:,1:]\n",
    "# y_train = data[:,0]\n",
    "\n",
    "# # get the size of the data\n",
    "# N,D = x_train.shape\n",
    "\n",
    "# print(\"Data has {} samples and {} features\".format(N, D))\n",
    "# print(\"training data size:\", x_train.shape)\n",
    "# print(\"training label:\", y_train.shape)"
   ]
  },
  {
   "cell_type": "code",
   "execution_count": null,
   "metadata": {
    "collapsed": true
   },
   "outputs": [],
   "source": [
    "# # test data\n",
    "# dataset_test = [\n",
    "#     [1,4,5,63,5],\n",
    "#     [1,7,22,1,4],\n",
    "#     [0,3,4,1,5],\n",
    "#     [0,66,3,2,1]\n",
    "# ]\n",
    "\n",
    "# data_test = np.array(dataset_test)"
   ]
  },
  {
   "cell_type": "code",
   "execution_count": null,
   "metadata": {
    "collapsed": true
   },
   "outputs": [],
   "source": [
    "# # split test data into samples and labels\n",
    "\n",
    "# x_test = data_test[:,1:]\n",
    "# y_test = data_test[:,0]\n",
    "\n",
    "# # get the size of the data\n",
    "# N_test,D_test = x_test.shape\n",
    "\n",
    "# print(\"Data has {} samples and {} features\".format(N_test, D_test))\n",
    "# print(\"test data size:\", x_test.shape)\n",
    "# print(\"test label:\", y_test.shape)"
   ]
  },
  {
   "cell_type": "markdown",
   "metadata": {},
   "source": [
    "### Initialize parameters \n",
    "- weight\n",
    "    - mu\n",
    "    - sigma\n",
    "- noise"
   ]
  },
  {
   "cell_type": "code",
   "execution_count": 27,
   "metadata": {
    "collapsed": false
   },
   "outputs": [
    {
     "name": "stdout",
     "output_type": "stream",
     "text": [
      "w_mu size:    (2048,)\n",
      "w_sigma size: (2048, 2048)\n"
     ]
    }
   ],
   "source": [
    "# Initialize Weight\n",
    "w_mu = np.zeros(d)\n",
    "w_sigma = np.eye(d)\n",
    "\n",
    "#Intialize noise\n",
    "sigma_square = 0.1**2\n",
    "\n",
    "print(\"w_mu size:   \", w_mu.shape)\n",
    "print(\"w_sigma size:\", w_sigma.shape)"
   ]
  },
  {
   "cell_type": "markdown",
   "metadata": {},
   "source": [
    "### posterior"
   ]
  },
  {
   "cell_type": "code",
   "execution_count": null,
   "metadata": {
    "collapsed": false
   },
   "outputs": [],
   "source": [
    "# posterior\n",
    "w_mu_posterior = w_mu + \\\n",
    "                    w_sigma@x_train.T @ \\\n",
    "                    inv(x_train@w_sigma@x_train.T + sigma_square*np.eye(n)) @ \\\n",
    "                    (y_train - x_train@w_mu)\n",
    "w_sigma_posterior = w_sigma - \\\n",
    "                    w_sigma@x_train.T @ \\\n",
    "                    inv(x_train@w_sigma@x_train.T + sigma_square*np.eye(n)) @x_train@w_sigma\n",
    "    \n",
    "print(\"w_mu_posterior: \", w_mu_posterior)\n",
    "print(\"w_sigma_posterior: \", w_sigma_posterior)"
   ]
  },
  {
   "cell_type": "markdown",
   "metadata": {},
   "source": [
    "### predictions"
   ]
  },
  {
   "cell_type": "code",
   "execution_count": 18,
   "metadata": {
    "collapsed": false
   },
   "outputs": [
    {
     "name": "stdout",
     "output_type": "stream",
     "text": [
      "y_star_mu_posterior:  [  6.22971167e-02  -1.57072547e-01   7.17574818e-01   1.76071660e-01\n",
      "  -1.38519019e-01   7.03038198e-02   8.40759377e-02   6.90453396e-02\n",
      "   1.95600594e-01   4.52346173e-01  -3.63658539e-01   2.01276010e-01\n",
      "  -1.04495160e-01   1.63222181e-02   2.22939937e-01   4.36841694e-01\n",
      "   4.54613350e-02  -2.91803683e-01   2.06341344e-02   2.24263094e-01\n",
      "  -4.46125776e-02   4.33244680e-01   2.52614821e-02  -8.95893315e-02\n",
      "   4.59857003e-02  -2.69987002e-01  -1.45590689e-01  -2.47897542e-02\n",
      "   1.90514476e-02   2.29525552e-01   2.93830299e-01   7.20649702e-01\n",
      "  -5.51117676e-02   7.01509648e-01   1.09551361e-01  -3.67436446e-01\n",
      "   4.22348348e-01  -2.33786178e-01   2.29772040e-01   1.12468282e-01\n",
      "   2.12661345e-01   4.66704048e-01  -1.46739747e-01  -3.31789313e-01\n",
      "  -1.35178354e-01   2.81488460e-02   1.97070587e-01  -1.01118609e-01\n",
      "   1.16727000e-01   8.02778706e-02   4.01990531e-01   2.08219962e-01\n",
      "  -1.49190651e-01  -6.16212097e-02  -4.17417577e-01  -2.46244200e-01\n",
      "  -4.28392541e-01  -3.03130083e-01  -4.54430109e-01   2.66151519e-01\n",
      "   4.79742996e-01  -5.54144950e-01   1.35070235e-01   2.21201821e-02\n",
      "  -6.76448815e-02   1.66267721e-02   7.57113662e-02   1.73862513e-01\n",
      "   5.65478035e-01  -2.03681914e-02  -6.21193829e-03   3.17898799e-01\n",
      "  -4.25529508e-01  -7.25091128e-02  -2.16322137e-01  -4.27422991e-01\n",
      "   1.55062466e-01  -3.21772889e-01  -6.70313295e-02  -1.37026679e-01\n",
      "   2.05341144e-01   1.35014371e-01   2.85857475e-01   2.85352209e-01\n",
      "  -1.09735044e-02   5.43439035e-01  -3.65674349e-01  -1.11155626e-01\n",
      "   7.15701622e-01  -4.44434266e-01   9.50516316e-02  -1.20663219e-01\n",
      "   2.76487107e-01   2.56449211e-01  -2.73076561e-01   1.92981761e-01\n",
      "   2.90083522e-01   1.65881433e-01  -1.00410545e-02   4.13090375e-02\n",
      "  -1.89442015e-01   4.91346884e-01  -5.96861115e-01   3.04550092e-01\n",
      "   4.22305889e-01   3.02441693e-01  -1.52866796e-02  -2.36202768e-01\n",
      "  -2.82769391e-01   2.06652343e-01   4.31895842e-02   2.27768233e-01\n",
      "  -1.38269446e-02  -3.83746334e-02   2.09831776e-01  -2.30597503e-01\n",
      "  -2.01010537e-01   3.81383203e-01  -2.12252470e-01  -4.54382852e-01\n",
      "  -4.36915441e-02   9.45284871e-02  -2.45767066e-01  -4.00225110e-01\n",
      "  -1.61605233e-01   9.48632142e-02   3.97824454e-02   2.95959695e-01\n",
      "   3.70167152e-01  -2.08888868e-02  -8.86901368e-02  -5.36725510e-01\n",
      "   2.85512672e-02   9.95943286e-02   1.73327925e-01   9.00142527e-02\n",
      "   1.04927635e-01  -1.74563001e-01   1.64940444e-01  -1.33038243e-01\n",
      "  -3.44489443e-01   2.23168962e-01  -1.53582052e-01   1.92964746e-02\n",
      "   1.20733221e-01  -1.82563383e-01  -2.53383451e-01  -4.18540491e-02\n",
      "  -2.92952937e-01   6.34251299e-01  -2.16718111e-01   3.40623427e-01\n",
      "   3.82436266e-01  -1.03746177e-01   9.29875341e-02  -6.39868348e-02\n",
      "  -4.52770760e-01   3.79327185e-01   3.78385817e-02   1.31894391e-01\n",
      "  -4.62853836e-01   3.73696698e-01  -2.91248709e-01  -4.30860236e-01\n",
      "   2.62125301e-01  -2.93182105e-01   5.37465971e-01   1.21929015e-01\n",
      "  -9.72265069e-02   1.20154567e-01   6.61411139e-02  -9.68871736e-02\n",
      "   2.51900061e-02  -1.04867655e-03   7.46443460e-01  -4.52372426e-02\n",
      "  -3.80506600e-01  -2.45930421e-01   1.34618846e-01   3.05898969e-01\n",
      "   5.17629330e-02   3.40596620e-01   2.37340188e-01  -1.52238119e-01\n",
      "  -3.39975087e-01   3.17715182e-01   2.34244599e-01  -2.55593334e-02\n",
      "   1.10084277e-01  -2.79593804e-01  -3.41152475e-01   5.08648166e-01\n",
      "  -2.08074154e-02   2.19985508e-02   5.48045557e-01   2.44416165e-01\n",
      "  -2.42770898e-01   5.18872772e-03   4.55984901e-01  -4.77971923e-02\n",
      "   6.39578096e-02  -2.78101288e-01   2.47513059e-01   1.84125399e-01\n",
      "  -1.80469819e-01   1.29437677e-01  -2.72634121e-01  -2.31423711e-01\n",
      "   1.22702295e-01   9.96822656e-02   9.13324109e-02  -1.68568968e-01\n",
      "  -2.73130762e-01  -2.14611177e-01  -1.00946638e-01  -2.82089900e-01\n",
      "   2.58894023e-01   7.92021295e-02  -9.46149088e-02  -4.03114909e-01\n",
      "  -1.28571510e-01   3.73483755e-01   2.40609602e-01   4.08356955e-03\n",
      "   1.91657379e-01  -6.06761397e-01  -2.12919231e-01   7.41631170e-02\n",
      "   3.64339348e-01   1.15296982e-01  -1.27577857e-02   2.00518817e-01\n",
      "  -1.19125393e-01  -4.79046549e-01  -6.21928104e-02   5.41241130e-01\n",
      "   3.69080900e-01   3.83333197e-01   2.21191838e-01  -2.52944264e-01\n",
      "   9.32279994e-02   2.87512575e-02  -3.12021236e-02  -4.34526514e-02\n",
      "   3.18562523e-01  -1.73936230e-02  -2.96244698e-02   2.34965760e-01\n",
      "   2.43136716e-01  -1.16051934e-01  -1.47392728e-01   1.10082427e-01\n",
      "   2.16502022e-02   6.30631782e-02   7.06892234e-01   5.98669571e-02\n",
      "   4.85792764e-01   2.52283525e-01   6.13851597e-03   3.19292321e-01\n",
      "  -3.99042882e-01   1.84441223e-01   5.93383992e-02   6.78285505e-01\n",
      "  -7.08797415e-02  -2.37661203e-01   2.26248350e-01   7.50257325e-02\n",
      "  -2.16611401e-01  -7.22806513e-02  -3.10723959e-02   6.41880415e-03\n",
      "   4.07013378e-01  -6.53521685e-02  -1.27551714e-01   5.04716754e-01\n",
      "   5.39354854e-02   2.37717727e-01   1.54314037e-01  -3.13039485e-01\n",
      "   1.18194454e-01   1.20375201e-01  -8.89252253e-02  -2.65751480e-01\n",
      "   1.81879991e-01   7.93768725e-01   6.27641444e-02  -7.42655926e-02\n",
      "   4.25105141e-01   2.50065410e-01  -4.07449065e-01  -4.62665023e-02\n",
      "  -1.59235416e-01  -4.32099333e-01  -5.73752186e-02   2.06922849e-02\n",
      "   9.87102889e-02   1.20545400e-01  -7.17576635e-02  -5.36492230e-02\n",
      "  -1.86491564e-01   5.84265635e-02   5.01428554e-02  -7.41356677e-01\n",
      "   2.77118047e-01   3.79835328e-01  -1.85480401e-01   8.02852451e-03\n",
      "  -1.06984759e-01  -3.69352505e-01  -5.26760196e-02  -1.26019808e-01\n",
      "   2.68330852e-01   8.99056072e-02   2.31424843e-01  -5.55547132e-02\n",
      "  -6.92245321e-02   3.07130427e-01  -1.40248793e-01   2.42463702e-01\n",
      "  -1.44115010e-01   7.83734994e-02   1.61260930e-01  -1.47113988e-01\n",
      "   1.27572219e-01   4.01498592e-02  -2.15138697e-01  -5.97211810e-02\n",
      "   3.09324501e-01  -2.53156234e-01   9.30232271e-02   1.04580114e-01\n",
      "   5.44789642e-02   2.04387601e-01  -1.55080252e-01  -3.05866241e-01\n",
      "   4.91190883e-01  -1.35536512e-03  -6.00806481e-02  -4.53766370e-01\n",
      "   1.91633566e-01  -3.54159753e-02  -9.45166246e-02   1.50884540e-01\n",
      "   3.75378219e-01  -4.34546717e-01   3.48376020e-01  -2.02344716e-01\n",
      "  -3.62494046e-02   7.83890092e-02  -2.55035875e-01  -6.33062740e-02\n",
      "  -4.45436759e-01   1.61936033e-01   1.08079324e-02   2.57528311e-01\n",
      "   6.80730664e-02  -8.09819933e-02   1.09762489e-02  -4.84849441e-01\n",
      "   4.15532070e-01  -5.39223649e-02  -1.36118913e-01  -2.87813900e-01\n",
      "   2.41459451e-01  -1.99650005e-01   4.44529145e-01   9.95886000e-02\n",
      "  -6.00234336e-02  -1.68075337e-01  -3.34527728e-01  -1.58703163e-01\n",
      "   3.03110462e-01   5.47727993e-01  -4.57421249e-02  -1.71862468e-01\n",
      "   1.62050820e-01   4.04332263e-03   3.09377714e-01  -4.40812312e-01\n",
      "   1.08590338e-01   4.55095816e-01  -6.06556576e-02   2.56635492e-01\n",
      "   1.34391255e-01  -4.31134211e-01   1.61471855e-01   2.48036607e-01\n",
      "   1.04511554e-01   9.05785044e-02  -4.38694156e-01  -1.13638559e-01\n",
      "  -5.42745593e-01  -3.29707399e-01  -5.70813395e-02   3.04566560e-01\n",
      "   5.35309610e-02   1.29343718e-01   2.64454182e-01   1.18149601e-02\n",
      "   1.21705913e-01   2.24814789e-01   7.57283845e-02  -1.28500902e-01\n",
      "   2.82049022e-02  -1.75447516e-02   3.16607063e-01  -4.39060244e-01\n",
      "   1.72786617e-01   1.59551966e-01   2.71228559e-01  -1.09135967e-01\n",
      "   7.52591864e-02   2.59711360e-01  -2.72072771e-01  -1.23918541e-01\n",
      "   1.67457200e-01  -3.37158929e-01   4.69508634e-01  -1.10916943e-01\n",
      "   7.16334192e-03   7.25039840e-03  -1.20707855e-01  -2.36274114e-02\n",
      "  -2.21186119e-01   3.19403840e-01   3.90362304e-02   5.97016250e-02\n",
      "   1.90857738e-01   4.08248365e-01  -4.37225659e-01   2.81382626e-01\n",
      "   3.92833142e-01  -4.34345573e-01  -2.11260563e-01   1.31759516e-01\n",
      "   4.42869784e-01   5.13667793e-02   6.96076809e-02  -3.97562730e-02\n",
      "  -1.36376564e-01  -1.67454059e-01  -9.27261763e-02   2.27245978e-01\n",
      "  -1.12180765e-01   9.17736806e-02  -4.24594077e-01  -1.91499668e-01\n",
      "  -1.10865381e-01  -1.07522953e-02  -4.62966833e-02  -2.42402971e-01\n",
      "  -9.83647643e-02  -1.51562025e-01   2.19413283e-01   5.08759487e-01\n",
      "  -2.29267223e-01   1.13787975e-01   6.10235256e-01   1.70495098e-01\n",
      "   1.03541010e-01  -9.23775303e-02   1.45733924e-01   1.60434407e-01\n",
      "   4.80279402e-01  -3.27755669e-01   1.87124926e-01   3.64272019e-01\n",
      "   3.30175483e-01  -2.06620255e-01   3.65872674e-01   3.93352614e-01\n",
      "   2.87323290e-01   3.65028435e-01  -1.80306478e-01   4.29504074e-02\n",
      "   1.70550972e-02  -2.65388396e-02   3.51294277e-01  -3.27871177e-01\n",
      "   3.20832869e-01   1.14444209e-01  -2.22863936e-01  -1.73716715e-01\n",
      "  -1.81804036e-01   4.03647176e-01   1.20773796e-01  -4.17887365e-01\n",
      "   1.30054187e-01   8.26869364e-02   1.83290054e-01  -1.49003968e-01\n",
      "  -3.13293742e-01   3.12869362e-01  -1.57272151e-01  -2.92459517e-01\n",
      "   5.07680798e-02   8.35445666e-03   3.15326840e-01   1.07350580e-01\n",
      "  -2.01956916e-01   1.28800885e-01  -2.69171260e-01  -1.89445706e-01\n",
      "   1.08958849e-01   2.56668081e-01   2.85347361e-01   1.75103834e-02\n",
      "   1.18879724e-01   1.18258709e-01   2.44699022e-01   2.29531352e-01\n",
      "  -7.17764295e-02  -2.57227718e-01  -7.66402753e-02  -3.28542057e-01\n",
      "   1.34684837e-01   1.56526474e-01  -5.85360043e-02   2.21952525e-01\n",
      "   3.99705832e-01   2.06401487e-01   1.79535957e-02   3.43325121e-01\n",
      "  -1.02609859e-01   2.74661703e-01  -7.11383557e-02  -2.88665512e-01\n",
      "   7.65128432e-02  -6.00662915e-02   4.87158404e-03  -2.63297851e-01\n",
      "  -2.67167217e-01  -1.55002812e-02  -5.15763279e-01   7.44880881e-01\n",
      "   1.37972704e-01   4.68549076e-02   7.86468305e-03   6.15649079e-01\n",
      "   6.30469978e-01  -2.00934344e-01   7.48165633e-02   2.58693820e-01\n",
      "   3.87042017e-01  -2.12760845e-01  -2.41767147e-01  -3.17307271e-01\n",
      "  -2.30945104e-01   4.03683010e-02  -3.77013120e-01   8.26065479e-02\n",
      "  -1.06461073e-02  -1.27856101e-01   3.57190738e-02   1.40189344e-01\n",
      "  -5.72127137e-02  -1.65523986e-01  -1.60527978e-01  -5.87291047e-03\n",
      "   1.02457896e-01  -5.71830245e-01  -7.65987692e-02  -3.59160677e-02\n",
      "   2.72913971e-02  -1.31555209e-01  -1.25957581e-01  -1.95998127e-01\n",
      "  -7.69588303e-02  -2.51685806e-01  -2.78659389e-02   2.65623864e-02\n",
      "  -4.03534347e-02   2.86125212e-02   8.75624200e-01  -2.43158477e-01\n",
      "   4.11736951e-01  -1.20184056e-01   2.46595895e-02   1.81376448e-01\n",
      "  -6.32926788e-01   9.30866673e-02  -3.98636175e-02  -3.66789814e-02\n",
      "   4.32550529e-01  -2.57725760e-01  -7.41979458e-02  -1.03115167e-01\n",
      "  -4.02378308e-01  -4.67698071e-01  -2.36203547e-01  -4.24777507e-01\n",
      "   5.69395090e-03  -2.77083999e-01   3.00087107e-01  -2.14647592e-01\n",
      "   8.38143479e-02  -1.50043580e-01   7.62981232e-02   2.10403924e-01\n",
      "  -1.73655108e-01  -2.36743881e-01  -3.20257679e-01  -1.57080883e-01\n",
      "   2.09285877e-01   1.75543085e-01  -1.78215270e-02   5.79869776e-02\n",
      "   1.10077312e-01  -3.57472692e-01  -6.14954118e-02   6.69467946e-03\n",
      "  -1.05361018e-01  -2.77233294e-01  -2.55285752e-01  -3.99517236e-01\n",
      "  -2.38608067e-01  -1.23355360e-01   3.91022248e-01  -1.97420480e-01\n",
      "   4.08215886e-01  -6.94263225e-02   2.18430597e-01  -6.68907900e-02\n",
      "  -2.96476585e-01  -1.77434057e-01   2.04346050e-01   1.96538179e-01\n",
      "  -3.88551316e-02   3.14294663e-01   2.84228567e-01   5.89148279e-02\n",
      "  -4.42618888e-01  -1.01498572e-01  -4.45127491e-01   2.39447982e-01\n",
      "   4.85295083e-01   1.32311893e-01   2.21142757e-01   1.48606212e-01\n",
      "   6.26613127e-01   1.98297190e-01  -1.13694873e-02  -1.62410039e-01\n",
      "  -2.72958872e-01  -1.93574598e-01   2.45386282e-01   8.33236089e-01\n",
      "   1.62669841e-01  -3.12557760e-03   3.09149067e-01   2.24774216e-01\n",
      "   3.01661732e-02  -5.08670498e-02   2.61749501e-01  -1.09293017e-01\n",
      "   6.20501209e-01   6.87078206e-02  -1.88899546e-01  -1.82324711e-01\n",
      "   4.74771325e-01   4.22304773e-01  -8.90606930e-02   5.34078558e-02\n",
      "   1.22299376e-02  -1.62761138e-01   7.52109242e-02  -4.56377001e-01\n",
      "  -3.64639372e-01  -1.37647421e-01  -4.76405908e-01   9.91234941e-02\n",
      "  -5.60269400e-02   2.05641628e-01   1.25744305e-01   5.79203217e-01\n",
      "   5.30286708e-01   5.20157874e-02   9.08315186e-01   1.12102582e-01\n",
      "  -1.43934619e-01  -1.62560453e-01  -2.79694575e-02  -4.20408900e-01\n",
      "  -3.82624497e-01  -3.09935104e-01   4.83373891e-01  -6.02258033e-02\n",
      "   1.29961708e-01   2.97155901e-01   3.17763780e-01  -2.34017493e-01\n",
      "   4.29089807e-02  -1.72388894e-01  -3.66986500e-01  -1.94640701e-01\n",
      "  -1.15886291e-01   3.97450952e-01  -1.06130336e-01   2.98969084e-01\n",
      "   3.40785799e-01   6.55772795e-02  -1.37051508e-02   1.59300912e-01\n",
      "  -3.11175024e-02   1.19859746e-01   2.35258669e-01  -2.92855452e-01\n",
      "   1.93283343e-01  -7.96637317e-02  -3.04384823e-01  -1.24136597e-01\n",
      "   6.39467272e-02   1.35723632e-01  -1.15591130e-01   4.82736485e-01\n",
      "   2.03073529e-02   2.98657138e-02   1.13864971e-01  -2.64289888e-01\n",
      "   5.73890691e-02  -3.05272730e-01  -9.12091778e-02   2.30040670e-01\n",
      "  -4.66846469e-01  -2.69262992e-03  -3.54399575e-01  -2.08616165e-02\n",
      "  -1.42876625e-01  -3.17399061e-01   4.50215872e-01  -2.82957469e-01\n",
      "   1.64806607e-01   5.57416865e-01   3.57984875e-01  -2.33326624e-01\n",
      "  -1.36608887e-01   1.37684838e-01  -1.70663553e-01   3.18003730e-02\n",
      "  -6.24821819e-01   8.82828670e-02   8.98370293e-02  -5.67157950e-01\n",
      "  -2.96052935e-01  -7.65166636e-02  -5.44084067e-02  -9.07505470e-02\n",
      "  -4.59955737e-01  -3.66020458e-01  -8.61740527e-02   2.79932762e-01\n",
      "   6.38765968e-02   9.90436576e-02  -6.19160749e-01   5.39258900e-01\n",
      "  -2.07941431e-01   8.32031597e-01  -6.27747826e-02  -4.51892015e-02\n",
      "  -1.99784569e-01  -5.60680723e-01   1.60956706e-01  -2.16495498e-01\n",
      "   4.23226996e-01  -2.88351584e-02   2.64508379e-01   2.48456506e-01\n",
      "   2.87704970e-01  -2.51932953e-01   1.75898811e-01   1.26654882e-01\n",
      "   4.43392390e-02   2.46467491e-01   3.47843421e-01   6.19254168e-01\n",
      "  -1.59486142e-01   1.49357885e-01  -1.46147882e-01   2.34178903e-01\n",
      "   1.78676555e-01  -1.05855857e-01   2.58250557e-01   1.47484247e-01\n",
      "   1.37391596e-01  -1.78940307e-01   4.82655092e-01   1.45516409e-01\n",
      "  -4.64974744e-01  -1.41260613e-01  -1.42889481e-01   6.61291172e-02\n",
      "   2.40823570e-01   2.12588581e-02   3.57054131e-01   1.67133266e-01\n",
      "   2.16130637e-02  -3.25531222e-01  -2.27522089e-01  -4.59813838e-01\n",
      "   5.46084773e-02  -4.20849331e-02   3.88557582e-01  -1.13650317e-01\n",
      "   2.97531951e-01  -1.83914066e-01  -2.74245263e-01  -9.96279453e-02\n",
      "   5.12161264e-02  -4.77201670e-01  -1.77552527e-01   8.38707895e-02\n",
      "  -1.88880977e-01  -4.62103738e-01  -9.41788655e-02  -2.45395857e-01\n",
      "   1.31389421e-01  -2.69207169e-01  -4.74855600e-02   2.05430741e-01\n",
      "  -6.17971866e-02   2.92386548e-01  -4.52428087e-01   4.53735271e-02\n",
      "  -1.74615376e-02   2.08909892e-01  -2.49684595e-01  -2.41481964e-01\n",
      "  -4.93055922e-01  -4.24584615e-01   7.64069447e-02  -3.26946637e-01\n",
      "   1.09382164e-01   5.76879378e-02  -5.45828237e-02   3.17740825e-01\n",
      "   8.16477528e-02  -5.01603012e-02   1.46034907e-01  -2.62572941e-01\n",
      "   6.77647330e-02   3.57358590e-01  -1.07895008e-01  -8.42932870e-01\n",
      "  -1.81669921e-01   4.49967751e-01  -3.16722066e-01  -1.90775932e-01\n",
      "  -3.65391622e-01   2.38770145e-02   1.37418865e-01  -1.33666910e-01\n",
      "   6.60686910e-01   1.76211318e-01  -3.57463504e-01  -2.85002212e-01\n",
      "  -2.27030690e-01  -1.24462122e-01   1.04093003e-01  -3.13975214e-01\n",
      "  -4.73819680e-02   3.78952443e-01   8.28031707e-02  -2.22951638e-01\n",
      "  -1.72279465e-01  -3.02421607e-01   8.41148130e-02   1.06165950e-01\n",
      "   1.64964841e-01  -7.20389892e-02   9.81107260e-02   3.41895829e-01\n",
      "  -4.74585275e-01  -1.44936356e-01   5.51103795e-03   2.82075365e-01\n",
      "   2.74481685e-01   3.27334178e-01  -4.47085014e-01  -3.79077197e-01\n",
      "   5.87428342e-01   1.00224954e-01   1.18264101e-01  -3.22326793e-01\n",
      "   1.52754623e-01  -2.34015752e-01   1.60822985e-01  -2.63878780e-01\n",
      "  -1.58295517e-01  -1.09517731e-01   9.55754810e-02  -1.30899172e-01\n",
      "  -1.38380305e-01  -3.68806200e-01   1.20365058e-03   3.79345236e-01\n",
      "   1.17607304e-01   1.28885448e-02   4.74914912e-01  -2.37830395e-02\n",
      "   3.68074034e-01  -5.01827461e-02   1.24447914e-01  -3.88637929e-01\n",
      "  -1.58871879e-01  -3.15050757e-01   7.37240622e-01  -4.37829417e-02\n",
      "  -3.18571968e-01  -1.00697153e-01  -3.43653922e-01   1.54067406e-01\n",
      "  -1.56653887e-03   1.66785838e-01  -1.37746683e-01   8.89841666e-02\n",
      "  -4.57183843e-02  -1.41933902e-01  -4.84978224e-02  -1.94782432e-02\n",
      "  -2.86593864e-01  -1.25554619e-01  -5.79430183e-01  -1.73617593e-04\n",
      "   2.74815920e-01  -1.56798559e-01   2.79226547e-01  -1.19189115e-01\n",
      "  -7.58179624e-02  -1.31397226e-02   1.21076966e-01  -6.44070080e-02\n",
      "  -4.73151271e-01   1.41765997e-01   8.14264272e-02  -6.26491140e-01\n",
      "  -1.23976821e-02   4.95275258e-01  -1.75510405e-02   4.98333220e-01\n",
      "   7.80873419e-02   8.12749919e-02   2.08847769e-02  -1.43423491e-01\n",
      "   2.65621632e-02   3.59640448e-01   3.74707389e-01  -5.83491148e-02\n",
      "  -6.16267419e-01   2.81019040e-01  -9.49759111e-04  -5.97317537e-02\n",
      "   1.98998216e-02  -7.68425262e-02  -2.90699742e-01   2.93044102e-01\n",
      "  -2.08360905e-01   4.53847509e-02   4.75254515e-02  -2.64344876e-01\n",
      "  -1.08295695e-02  -9.64866835e-02   1.36079609e-01   5.32315474e-02\n",
      "   4.48985639e-01  -2.30919547e-02  -5.40839338e-02  -3.53921675e-02\n",
      "  -3.53475122e-02   5.20506342e-01   2.44813574e-01   1.18315593e-01\n",
      "   2.42660613e-01  -1.62376754e-01   7.75512681e-01  -3.62131959e-01\n",
      "  -1.00863977e-01   1.14223524e-02  -2.03418484e-01   3.28174365e-01\n",
      "  -7.86178753e-02   2.22518813e-01   3.73069573e-01   7.96998542e-02\n",
      "   1.04588706e-01  -1.35128489e-02  -3.51911734e-01  -4.69917909e-02\n",
      "  -5.47833827e-02  -2.41910103e-01   3.12756309e-02  -2.62689116e-01\n",
      "   1.49349953e-01  -1.95891892e-01  -9.34756335e-01  -1.40226482e-01\n",
      "   2.79918045e-01   3.00067922e-01   3.32860889e-01   3.30377980e-01]\n",
      "y_star_sigma_posterior:  [[  1.71277390e-01   3.78983008e-03  -1.37361257e-02 ...,  -2.10028948e-03\n",
      "    4.60865751e-03  -1.08836118e-02]\n",
      " [  3.78983016e-03   4.80354127e-01  -2.83168074e-03 ...,  -1.88633653e-02\n",
      "   -3.06743933e-03  -4.24083820e-03]\n",
      " [ -1.37361256e-02  -2.83168073e-03   3.79223580e-01 ...,   5.96543278e-03\n",
      "   -1.12815013e-02  -9.07049955e-03]\n",
      " ..., \n",
      " [ -2.10028933e-03  -1.88633652e-02   5.96543291e-03 ...,   3.75031534e-01\n",
      "   -3.33242240e-04  -1.44937564e-03]\n",
      " [  4.60865761e-03  -3.06743923e-03  -1.12815012e-02 ...,  -3.33242311e-04\n",
      "    2.31342112e-01  -1.41916710e-04]\n",
      " [ -1.08836118e-02  -4.24083822e-03  -9.07049954e-03 ...,  -1.44937582e-03\n",
      "   -1.41916840e-04   2.96048328e-01]]\n",
      "var:  [ 0.41385673  0.69307585  0.61581132  0.58113244  0.24722947  0.37484853\n",
      "  0.38773926  0.77632252  0.49801992  0.52096126  0.35091791  0.58119746\n",
      "  0.37650793  0.44533051  0.67721852  0.6492715   0.36686026  0.67158257\n",
      "  0.50972054  0.52682834  0.4882873   0.57404588  0.53321994  0.26980997\n",
      "  0.40078192  0.30475082  0.39251483  0.43702972  0.38606789  0.40515433\n",
      "  0.49349609  0.51180595  0.45497283  0.53009942  0.55187568  0.68681377\n",
      "  0.46783925  0.3672942   0.3405432   0.6884633   0.41079948  0.57245056\n",
      "  0.46973956  0.59254858  0.40519127  0.62119269  0.57050901  0.31034975\n",
      "  0.45115132  0.39131354  0.59582501  0.44264842  0.42248454  0.48646099\n",
      "  0.42977439  0.34549638  0.62181816  0.38934215  0.40031373  0.38660907\n",
      "  0.6026592   0.47923408  0.51574832  0.36426266  0.30676036  0.4419804\n",
      "  0.55769021  0.64182325  0.60973921  0.59762418  0.49288792  0.37265387\n",
      "  0.41248496  0.43857173  0.4769155   0.38633271  0.59337672  0.45559958\n",
      "  0.43004478  0.46245051  0.61183189  0.52543151  0.63343734  0.42890102\n",
      "  0.32207364  0.60934323  0.39209931  0.4283262   0.72892196  0.52730014\n",
      "  0.45379694  0.30404352  0.54415977  0.66830599  0.59546312  0.53199732\n",
      "  0.50311607  0.63602383  0.4472955   0.46317685  0.58723798  0.68010419\n",
      "  0.3987833   0.55743134  0.45885075  0.519773    0.54611591  0.58551997\n",
      "  0.53244873  0.66023996  0.72232249  0.66865068  0.42428084  0.52212465\n",
      "  0.44848642  0.41308646  0.39010701  0.43091026  0.58797425  0.3979192\n",
      "  0.48010979  0.52029142  0.44480182  0.35862846  0.46701698  0.40995821\n",
      "  0.37459652  0.41992683  0.62834456  0.57756754  0.43212535  0.38924043\n",
      "  0.68355542  0.40941489  0.39619636  0.60363586  0.39054163  0.79309078\n",
      "  0.70302021  0.3726675   0.5268081   0.43513839  0.66925157  0.32399923\n",
      "  0.56775384  0.30981194  0.65016529  0.37845126  0.51116781  0.39670889\n",
      "  0.50839479  0.64642547  0.34617053  0.44908394  0.44467474  0.47544268\n",
      "  0.39996401  0.55876181  0.45846777  0.63115717  0.51765535  0.43519124\n",
      "  0.37009851  0.52219225  0.36551492  0.40591696  0.41167785  0.64190273\n",
      "  0.51599107  0.54762013  0.51600223  0.38030625  0.50940297  0.59505585\n",
      "  0.52773766  0.56197867  0.38027581  0.48572962  0.46463106  0.48665917\n",
      "  0.44038983  0.55850715  0.54488487  0.45527628  0.55918803  0.55795434\n",
      "  0.56945125  0.51420978  0.32532533  0.30411115  0.52442635  0.52278103\n",
      "  0.32424805  0.72477658  0.56491959  0.69993632  0.4941107   0.40730696\n",
      "  0.73899279  0.29038415  0.53052942  0.49534888  0.40989925  0.3840746\n",
      "  0.33583689  0.4420042   0.56399367  0.32996763  0.53865524  0.37445321\n",
      "  0.4515849   0.47054026  0.63804638  0.39328047  0.66296157  0.73005828\n",
      "  0.58968151  0.38576885  0.39692919  0.60497692  0.44265279  0.45210634\n",
      "  0.55735036  0.61019804  0.39768895  0.43177465  0.64685001  0.60252953\n",
      "  0.55030118  0.33361467  0.32544369  0.38225736  0.58703884  0.48047851\n",
      "  0.56461031  0.50892718  0.48850185  0.49669864  0.5200941   0.54934818\n",
      "  0.40007428  0.46815098  0.34830112  0.43897152  0.58917626  0.65182661\n",
      "  0.34605404  0.46640452  0.46009512  0.37403345  0.30531579  0.37313796\n",
      "  0.4894611   0.48816487  0.5316442   0.45541439  0.39065002  0.41097861\n",
      "  0.60251085  0.49799209  0.58735217  0.36472908  0.56029629  0.52862765\n",
      "  0.46163844  0.58684724  0.53011637  0.40504378  0.67294959  0.41748334\n",
      "  0.56720506  0.31717236  0.2713359   0.45473967  0.34112048  0.41885605\n",
      "  0.4498255   0.48964912  0.50551124  0.61587361  0.60936464  0.59616827\n",
      "  0.50501999  0.47800673  0.49809667  0.5375287   0.43355739  0.49844619\n",
      "  0.39577523  0.42100377  0.62787111  0.49783439  0.79449848  0.60184785\n",
      "  0.67635298  0.52660331  0.39039554  0.35696704  0.72191268  0.51855368\n",
      "  0.23518289  0.35409922  0.44736137  0.50042648  0.43415164  0.82191066\n",
      "  0.5153659   0.47590393  0.55824352  0.44304857  0.43662133  0.27387832\n",
      "  0.64837038  0.592855    0.42907207  0.31156684  0.53800758  0.46571982\n",
      "  0.60598148  0.52996868  0.51653176  0.4719049   0.45344097  0.44055544\n",
      "  0.43678162  0.52436371  0.41062397  0.40907863  0.57305095  0.40399855\n",
      "  0.5930302   0.41394254  0.62130027  0.45830474  0.54354296  0.50263801\n",
      "  0.49594266  0.50603356  0.68589815  0.479528    0.60225971  0.4187729\n",
      "  0.50541294  0.57599839  0.64285782  0.30947682  0.36505078  0.48398638\n",
      "  0.63387249  0.4582568   0.35971436  0.61683014  0.42887666  0.45257591\n",
      "  0.4809903   0.44293962  0.58841404  0.55576885  0.45659178  0.38705832\n",
      "  0.58507171  0.60292536  0.43943169  0.45812591  0.61663212  0.4657859\n",
      "  0.42197744  0.50368841  0.62211053  0.72753134  0.5029351   0.4053807\n",
      "  0.61753416  0.4541627   0.35191108  0.3659572   0.47143673  0.47086341\n",
      "  0.42195536  0.48262822  0.55841516  0.52691655  0.55167912  0.53526865\n",
      "  0.39791426  0.8874773   0.32763966  0.48205439  0.5137052   0.37742174\n",
      "  0.58673308  0.36490931  0.51168281  0.34131317  0.34019671  0.45116766\n",
      "  0.50803608  0.41434734  0.3598449   0.64787542  0.4486694   0.48767348\n",
      "  0.43525439  0.20659509  0.399274    0.52356684  0.55156899  0.36413762\n",
      "  0.45707405  0.60084262  0.49797645  0.60459712  0.49571065  0.54518794\n",
      "  0.58249394  0.53567896  0.48992156  0.42691135  0.54506265  0.52614118\n",
      "  0.58385926  0.43054555  0.49302912  0.54102422  0.42591103  0.6165356\n",
      "  0.4252909   0.64863568  0.58337159  0.49436249  0.40796726  0.61135184\n",
      "  0.55621343  0.57228223  0.6066692   0.4671047   0.44952865  0.47782951\n",
      "  0.49263955  0.42328879  0.48836377  0.47859616  0.57656273  0.46924145\n",
      "  0.61364553  0.50428484  0.36603543  0.53438046  0.48645988  0.68654127\n",
      "  0.52877151  0.49603133  0.50193018  0.25919903  0.54017858  0.47239901\n",
      "  0.53568881  0.45797307  0.58295552  0.6397489   0.61282296  0.5914119\n",
      "  0.63062239  0.48516937  0.57983805  0.45292121  0.49530715  0.61522987\n",
      "  0.47356917  0.55678505  0.51696915  0.53700462  0.57886809  0.52935459\n",
      "  0.40443129  0.44250601  0.72892353  0.41999416  0.56633382  0.38032868\n",
      "  0.70607812  0.83008909  0.57876227  0.48028342  0.48680383  0.72412665\n",
      "  0.61169143  0.58490513  0.62660331  0.41485157  0.41642634  0.45758157\n",
      "  0.42640534  0.34011125  0.4021936   0.45908475  0.40250723  0.44731173\n",
      "  0.56785979  0.61209061  0.54319896  0.4998764   0.50242812  0.63690763\n",
      "  0.54712136  0.4381015   0.76846888  0.3439562   0.4733845   0.48586585\n",
      "  0.40603639  0.53202335  0.36054118  0.55373623  0.49507764  0.46132731\n",
      "  0.64721797  0.38347951  0.32261805  0.5257498   0.55283072  0.59041357\n",
      "  0.33565775  0.57265772  0.48863944  0.42187071  0.42849267  0.45650358\n",
      "  0.53544916  0.33706751  0.34359983  0.41855144  0.51137957  0.54746636\n",
      "  0.49328892  0.51250311  0.58816028  0.46436871  0.32006126  0.55179811\n",
      "  0.46606784  0.54216055  0.35761803  0.39263056  0.70221014  0.38681414\n",
      "  0.49340181  0.41767695  0.87423814  0.53717298  0.55151116  0.50314012\n",
      "  0.38270612  0.43892006  0.45148496  0.58515826  0.43651795  0.41617978\n",
      "  0.39448706  0.47670456  0.51651236  0.42309869  0.6259638   0.39013076\n",
      "  0.61614243  0.50894724  0.44431656  0.45625346  0.48168354  0.42845847\n",
      "  0.29550525  0.40239979  0.45159079  0.52437437  0.67835851  0.68956876\n",
      "  0.53589336  0.43907139  0.53556574  0.55697666  0.38672102  0.57572568\n",
      "  0.51227613  0.38649201  0.58161067  0.46483988  0.45626004  0.4757946\n",
      "  0.53241142  0.47997174  0.41608256  0.41131926  0.43590162  0.48129484\n",
      "  0.72538844  0.61936053  0.3726777   0.51234517  0.55629675  0.60599542\n",
      "  0.51329435  0.58870251  0.51419931  0.57087665  0.41003647  0.41023435\n",
      "  0.3809849   0.42441506  0.4468733   0.5963264   0.26988677  0.54330214\n",
      "  0.34544612  0.35560024  0.52035234  0.54278365  0.50741202  0.3171834\n",
      "  0.37387596  0.47328178  0.49275129  0.33051907  0.6095909   0.44585124\n",
      "  0.32762721  0.44785365  0.61364068  0.52667552  0.36930001  0.5600232\n",
      "  0.72886862  0.6643947   0.55746291  0.38064084  0.45958101  0.40304718\n",
      "  0.57935263  0.61625218  0.42931045  0.3204017   0.57024633  0.6887945\n",
      "  0.44920443  0.47221188  0.36651464  0.32184739  0.52206361  0.75965196\n",
      "  0.62782888  0.36033276  0.51468622  0.61704394  0.54952581  0.36722715\n",
      "  0.4500426   0.342869    0.68255875  0.35265922  0.45226583  0.78361184\n",
      "  0.58420705  0.53951019  0.39280245  0.55524349  0.53043104  0.51567622\n",
      "  0.57381058  0.4067639   0.36951565  0.50505341  0.57695784  0.78797213\n",
      "  0.45871316  0.42350892  0.4807365   0.61868731  0.57637424  0.50140913\n",
      "  0.45873119  0.56013034  0.45459332  0.53302343  0.45174088  0.35445048\n",
      "  0.45087913  0.5976095   0.69738694  0.52109393  0.35401792  0.75106328\n",
      "  0.318424    0.29392931  0.41583387  0.33408785  0.5887166   0.41535426\n",
      "  0.30547097  0.5629207   0.41023602  0.55244381  0.45722416  0.81834644\n",
      "  0.57557982  0.49553828  0.50470193  0.60548753  0.55986243  0.44833721\n",
      "  0.48175316  0.43479118  0.52058646  0.39614729  0.71185735  0.56611051\n",
      "  0.35595104  0.43008853  0.34214667  0.55181588  0.30617618  0.48956218\n",
      "  0.43928471  0.61852533  0.61646321  0.45734007  0.51630086  0.37139725\n",
      "  0.34686015  0.58952762  0.30293947  0.35150068  0.56296158  0.57338348\n",
      "  0.51585086  0.68014222  0.44836595  0.33830169  0.46020813  0.36105395\n",
      "  0.52064483  0.44682046  0.43361697  0.38199724  0.44776868  0.59893258\n",
      "  0.38343355  0.57259041  0.47326362  0.48900817  0.47468301  0.3176869\n",
      "  0.59370805  0.5365947   0.45755103  0.70843248  0.36049135  0.59925084\n",
      "  0.4237863   0.5464513   0.64118016  0.58250695  0.43397551  0.69703618\n",
      "  0.4557701   0.34450707  0.43026366  0.36661936  0.46684191  0.51630603\n",
      "  0.70421726  0.39185394  0.48809666  0.5259234   0.43646139  0.65168231\n",
      "  0.55930904  0.62850814  0.54054962  0.38598263  0.32559077  0.49194552\n",
      "  0.44724223  0.3757776   0.4357986   0.34923409  0.45407295  0.55589126\n",
      "  0.70830511  0.35771686  0.43951979  0.51443192  0.49779781  0.4646482\n",
      "  0.3471882   0.46964066  0.50561316  0.52107474  0.66472497  0.39083053\n",
      "  0.40200646  0.421317    0.41801768  0.40456824  0.59239618  0.55377735\n",
      "  0.54473933  0.41609663  0.33670417  0.54449629  0.62666527  0.49636473\n",
      "  0.69048489  0.45550318  0.27074787  0.6745991   0.30860157  0.54277846\n",
      "  0.73868976  0.40271853  0.35785262  0.46847679  0.27251986  0.63533412\n",
      "  0.50423621  0.37950707  0.24823534  0.57886493  0.49355786  0.47815842\n",
      "  0.50103388  0.41368144  0.45265405  0.69089426  0.2434541   0.38781026\n",
      "  0.36965111  0.65194824  0.47801444  0.36755249  0.60213449  0.53870529\n",
      "  0.48804265  0.75509037  0.49906566  0.43195679  0.59382519  0.59723351\n",
      "  0.43408263  0.51717929  0.34013326  0.50935421  0.56352376  0.66726632\n",
      "  0.61611931  0.4654441   0.56309045  0.47100987  0.53555405  0.32822842\n",
      "  0.45100422  0.33433657  0.42902733  0.44152897  0.37041303  0.53508477\n",
      "  0.5652594   0.43276406  0.59284321  0.48284564  0.58186452  0.54583252\n",
      "  0.33013716  0.72706467  0.53563874  0.45437206  0.55605755  0.43851679\n",
      "  0.63140208  0.52778886  0.5107948   0.58257047  0.64296953  0.64568998\n",
      "  0.43251358  0.40087976  0.68806074  0.48260956  0.49524923  0.32024451\n",
      "  0.37839722  0.37812003  0.36852915  0.47938209  0.59956366  0.25368913\n",
      "  0.50436587  0.5300927   0.41279306  0.54085504  0.5865856   0.54993205\n",
      "  0.43516474  0.41409318  0.63745916  0.4927369   0.48234978  0.48133796\n",
      "  0.53021616  0.31817193  0.46078511  0.44894821  0.38930813  0.5064019\n",
      "  0.43481771  0.47714243  0.55017446  0.52974883  0.44354499  0.38406422\n",
      "  0.30996952  0.44323399  0.5142737   0.48596126  0.59712653  0.51457991\n",
      "  0.49017039  0.34823518  0.55688453  0.61454016  0.42766819  0.59238362\n",
      "  0.37623137  0.49581206  0.63053904  0.40295954  0.37160649  0.35205742\n",
      "  0.64822098  0.4624626   0.33296613  0.50285105  0.41490396  0.56402811\n",
      "  0.46503345  0.35051507  0.38773497  0.52009792  0.60105651  0.50720276\n",
      "  0.40363064  0.4186226   0.5199562   0.39881718  0.798043    0.70523692\n",
      "  0.44677676  0.50980423  0.48253753  0.66409538  0.58438642  0.40664924\n",
      "  0.42109105  0.50680369  0.50066276  0.3955655   0.39405941  0.42047782\n",
      "  0.32869045  0.53506728  0.31353066  0.60069329  0.42404638  0.38666233\n",
      "  0.30208037  0.47531394  0.87542379  0.45723928  0.42012505  0.43169785\n",
      "  0.31486612  0.65028989  0.45033922  0.63505954  0.6518485   0.46792963\n",
      "  0.42535893  0.47168126  0.28637897  0.53181904  0.46073015  0.62161755\n",
      "  0.38286274  0.43951483  0.33564179  0.48127569  0.41942909  0.47537121\n",
      "  0.49427422  0.61239818  0.48098037  0.54410323]\n"
     ]
    }
   ],
   "source": [
    "# prediction\n",
    "y_star_mu_posterior = x_test@w_mu_posterior\n",
    "y_star_sigma_posterior = x_test@w_sigma_posterior@x_test.T + \\\n",
    "                            sigma_square*np.eye(n_test)\n",
    "\n",
    "var = np.sqrt(y_star_sigma_posterior.diagonal())\n",
    "\n",
    "print(\"y_star_mu_posterior: \", y_star_mu_posterior)\n",
    "print(\"y_star_sigma_posterior: \", y_star_sigma_posterior)\n",
    "print(\"var: \", var)"
   ]
  },
  {
   "cell_type": "markdown",
   "metadata": {},
   "source": [
    "### experiment on prediction result"
   ]
  },
  {
   "cell_type": "code",
   "execution_count": 19,
   "metadata": {
    "collapsed": false
   },
   "outputs": [
    {
     "name": "stdout",
     "output_type": "stream",
     "text": [
      "accuaracy =  0.615\n"
     ]
    }
   ],
   "source": [
    "# fixed threshold\n",
    "\n",
    "# get the prediction\n",
    "threshold = 0\n",
    "\n",
    "predictions = y_star_mu_posterior.copy()\n",
    "predictions[ predictions<threshold ] = -1\n",
    "predictions[ predictions>=threshold ] = 1\n",
    "\n",
    "# compare predictions to true label\n",
    "n_correct = sum(predictions == y_test)\n",
    "\n",
    "print(\"accuaracy = \", n_correct/n_test)"
   ]
  },
  {
   "cell_type": "code",
   "execution_count": 20,
   "metadata": {
    "collapsed": false
   },
   "outputs": [
    {
     "name": "stdout",
     "output_type": "stream",
     "text": [
      "best accuracy is :  0.617\n",
      "best threshold is:  -0.1\n"
     ]
    }
   ],
   "source": [
    "# find best threshold\n",
    "max_correct, best_threshold = 0, 0\n",
    "record_correct = []\n",
    "for threshold in np.arange(-2,2,0.1):\n",
    "    predictions = y_star_mu_posterior.copy()\n",
    "    predictions[ predictions<threshold ] = -1\n",
    "    predictions[ predictions>=threshold ] = 1\n",
    "    n_correct = sum(predictions == y_test)\n",
    "    record_correct.append( n_correct )\n",
    "    if n_correct > max_correct:\n",
    "        max_correct = n_correct\n",
    "        best_threshold = threshold\n",
    "    \n",
    "record_correct = np.array( record_correct )\n",
    "print( \"best accuracy is : \", max_correct/n_test )\n",
    "print( \"best threshold is: \", best_threshold )"
   ]
  },
  {
   "cell_type": "code",
   "execution_count": null,
   "metadata": {
    "collapsed": false
   },
   "outputs": [],
   "source": [
    "# plot record of correctness w.r.t threshold\n",
    "print(record_correct)\n",
    "# print(record_correct)\n",
    "plt.plot(np.arange(-2,2,0.1), record_correct/n_test)"
   ]
  },
  {
   "cell_type": "code",
   "execution_count": null,
   "metadata": {
    "collapsed": false
   },
   "outputs": [],
   "source": [
    "# plot\n",
    "x_index = [i for i in range(n_test)]\n",
    "plt.scatter(x_index, y_test, c='r', s=50, zorder=10)\n",
    "plt.plot(x_index, y_star_mu_posterior,'k', lw=3, zorder=9)\n",
    "plt.fill_between(x_index, y_star_mu_posterior - 2*var, y_star_mu_posterior + 2*var, alpha=0.5, color='k')"
   ]
  }
 ],
 "metadata": {
  "kernelspec": {
   "display_name": "Python 3",
   "language": "python",
   "name": "python3"
  },
  "language_info": {
   "codemirror_mode": {
    "name": "ipython",
    "version": 3
   },
   "file_extension": ".py",
   "mimetype": "text/x-python",
   "name": "python",
   "nbconvert_exporter": "python",
   "pygments_lexer": "ipython3",
   "version": "3.6.0"
  }
 },
 "nbformat": 4,
 "nbformat_minor": 2
}
