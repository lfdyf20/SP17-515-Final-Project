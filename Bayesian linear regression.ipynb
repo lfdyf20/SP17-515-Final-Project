{
 "cells": [
  {
   "cell_type": "code",
   "execution_count": 1,
   "metadata": {
    "collapsed": true
   },
   "outputs": [],
   "source": [
    "%matplotlib inline \n",
    "import numpy as np\n",
    "from numpy.linalg import inv\n",
    "from matplotlib import pyplot as plt\n",
    "\n",
    "np.random.seed(0)"
   ]
  },
  {
   "cell_type": "markdown",
   "metadata": {},
   "source": [
    "### Process training and test data\n",
    "\n",
    "- load data\n",
    "- split into samples and labels for training and test data"
   ]
  },
  {
   "cell_type": "code",
   "execution_count": 2,
   "metadata": {
    "collapsed": true
   },
   "outputs": [],
   "source": [
    "# read data into program\n",
    "\n",
    "training_dataset = np.load('train.npy')\n",
    "test_dataset = np.load('test.npy')"
   ]
  },
  {
   "cell_type": "code",
   "execution_count": 3,
   "metadata": {
    "collapsed": false
   },
   "outputs": [
    {
     "name": "stdout",
     "output_type": "stream",
     "text": [
      "X_train shape:  (20000, 8192)\n",
      "Y_train shape:  (20000,)\n"
     ]
    }
   ],
   "source": [
    "# get training data\n",
    "X_train = training_dataset[()]['train_x']\n",
    "Y_train = training_dataset[()]['train_labels']\n",
    "\n",
    "N,D = X_train.shape\n",
    "\n",
    "print(\"X_train shape: \", X_train.shape)\n",
    "print(\"Y_train shape: \", Y_train.shape)"
   ]
  },
  {
   "cell_type": "code",
   "execution_count": 4,
   "metadata": {
    "collapsed": false
   },
   "outputs": [
    {
     "name": "stdout",
     "output_type": "stream",
     "text": [
      "X_test shape:  (1200, 8192)\n",
      "Y_test shape:  (1200,)\n"
     ]
    }
   ],
   "source": [
    "# get test data\n",
    "X_test = test_dataset[()]['test_x']\n",
    "Y_test = test_dataset[()]['test_labels']\n",
    "\n",
    "N_test,D_test = X_test.shape\n",
    "\n",
    "print(\"X_test shape: \", X_test.shape)\n",
    "print(\"Y_test shape: \", Y_test.shape)"
   ]
  },
  {
   "cell_type": "code",
   "execution_count": 25,
   "metadata": {
    "collapsed": false
   },
   "outputs": [
    {
     "name": "stdout",
     "output_type": "stream",
     "text": [
      "choose 2000 samples from the training set\n",
      "x_train shape:  (2000, 8192)\n",
      "y_train shape:  (2000,)\n",
      "2000 8192\n"
     ]
    }
   ],
   "source": [
    "# sample from training data\n",
    "\n",
    "# choose how many samples to sample\n",
    "n_sample_train = 0.1\n",
    "# get index\n",
    "idx_train = np.random.choice(N, int(n_sample_train*N), replace=False)\n",
    "\n",
    "# map index to rows\n",
    "x_train = X_train[idx_train,:]\n",
    "y_train = Y_train[idx_train]\n",
    "\n",
    "# centerize training data\n",
    "# x_train = x_train - np.mean( x_train, axis=0 )\n",
    "\n",
    "# deal with labels to -1 and 1\n",
    "y_train[ y_train <0.5 ] = -1\n",
    "\n",
    "n,d = x_train.shape\n",
    "\n",
    "print(\"choose {} samples from the training set\".format(int(n_sample_train*N)))\n",
    "print(\"x_train shape: \", x_train.shape)\n",
    "print(\"y_train shape: \", y_train.shape)\n",
    "print(n,d)"
   ]
  },
  {
   "cell_type": "code",
   "execution_count": 26,
   "metadata": {
    "collapsed": false
   },
   "outputs": [
    {
     "name": "stdout",
     "output_type": "stream",
     "text": [
      "choose 240 samples from the test set\n",
      "x_test:  (240, 8192)\n",
      "y_test:  (240,)\n",
      "240 8192\n"
     ]
    }
   ],
   "source": [
    "# sample from test data\n",
    "\n",
    "# choose how many samples to sample\n",
    "n_sample_test = 0.2\n",
    "# get index\n",
    "idx_test = np.random.choice(N_test, int(n_sample_test*N_test), replace=False)\n",
    "\n",
    "# map index to rows\n",
    "x_test = X_test[idx_test,:]\n",
    "y_test = Y_test[idx_test]\n",
    "\n",
    "# x_test = x_test - np.mean( x_test, axis=0 )\n",
    "\n",
    "y_test[ y_test<0.5 ] = -1\n",
    "\n",
    "n_test, d_test = x_test.shape\n",
    "\n",
    "print(\"choose {} samples from the test set\".format(int(n_sample_test*N_test)))\n",
    "print(\"x_test: \", x_test.shape)\n",
    "print(\"y_test: \", y_test.shape)\n",
    "print(n_test, d_test)"
   ]
  },
  {
   "cell_type": "markdown",
   "metadata": {},
   "source": [
    "### Feature Selections\n",
    "- [x] PCA\n",
    "- [] SVD"
   ]
  },
  {
   "cell_type": "code",
   "execution_count": 23,
   "metadata": {
    "collapsed": false
   },
   "outputs": [
    {
     "name": "stdout",
     "output_type": "stream",
     "text": [
      "(2000,)\n",
      "(2000, 2000)\n",
      "[  2.10090625e-01   1.55195644e-01   1.20590379e-01 ...,   2.19310022e-06\n",
      "   2.08173105e-06   9.67088850e-13]\n"
     ]
    }
   ],
   "source": [
    "# feature selection using PCA\n",
    "\n",
    "# cov_training = np.cov( x_train )\n",
    "# eigenValues_training, eigenVectors_training = np.linalg.eig( cov_training )\n",
    "# print( eigenValues_training.shape )\n",
    "# print( eigenVectors_training.shape)\n",
    "\n",
    "# eigen_ind = eigenValues_training.argsort()[::-1]\n",
    "# eigenValues_training = eigenValues_training[eigen_ind]\n",
    "# eigenVectors_training = eigenVectors_training[:, eigen_ind]\n",
    "# print(eigenValues_training)"
   ]
  },
  {
   "cell_type": "code",
   "execution_count": 22,
   "metadata": {
    "collapsed": false
   },
   "outputs": [
    {
     "data": {
      "image/png": "[encoded data removed]",
      "text/plain": [
       "<matplotlib.figure.Figure at 0x1303b70b8>"
      ]
     },
     "metadata": {},
     "output_type": "display_data"
    }
   ],
   "source": [
    "# # draw eigen values\n",
    "# plt.plot( eigenValues_training[:200] )\n",
    "# plt.ylabel( \"eigen values\" )\n",
    "# plt.show()"
   ]
  },
  {
   "cell_type": "code",
   "execution_count": 28,
   "metadata": {
    "collapsed": false
   },
   "outputs": [
    {
     "name": "stdout",
     "output_type": "stream",
     "text": [
      "U (2000, 2000)\n",
      "s (2000,)\n",
      "V (2000, 8192)\n"
     ]
    }
   ],
   "source": [
    "# do feature selection using SVD\n",
    "\n",
    "U, s, V = np.linalg.svd(x_train, full_matrices=False)\n",
    "print(\"U\", U.shape)\n",
    "print(\"s\", s.shape)\n",
    "print(\"V\", V.shape)"
   ]
  },
  {
   "cell_type": "code",
   "execution_count": 40,
   "metadata": {
    "collapsed": false
   },
   "outputs": [
    {
     "data": {
      "image/png": "[encoded data removed]",
      "text/plain": [
       "<matplotlib.figure.Figure at 0x13043bc88>"
      ]
     },
     "metadata": {},
     "output_type": "display_data"
    }
   ],
   "source": [
    "# draw s values\n",
    "plt.plot( s[:500] )\n",
    "plt.ylabel( \"s values\" )\n",
    "plt.show()"
   ]
  },
  {
   "cell_type": "code",
   "execution_count": 31,
   "metadata": {
    "collapsed": false
   },
   "outputs": [
    {
     "name": "stdout",
     "output_type": "stream",
     "text": [
      "x_train shape: (2000, 8192)\n"
     ]
    }
   ],
   "source": [
    "# get new dataset with selected features\n",
    "n_feature_selection_SVD = 200\n",
    "s[n_feature_selection_SVD:] = 0\n",
    "S = np.diag(s)\n",
    "x_train = U@S@V\n",
    "print(\"x_train shape:\", x_train.shape)"
   ]
  },
  {
   "cell_type": "code",
   "execution_count": 32,
   "metadata": {
    "collapsed": false
   },
   "outputs": [
    {
     "name": "stdout",
     "output_type": "stream",
     "text": [
      "0.508333333333\n"
     ]
    }
   ],
   "source": [
    "# get baseline\n",
    "positive_rate_test = sum(y_test == 1)/n_test\n",
    "baseline = positive_rate_test if positive_rate_test >= 0.5 else 1-positive_rate_test\n",
    "print(baseline)"
   ]
  },
  {
   "cell_type": "markdown",
   "metadata": {},
   "source": [
    "### experiment on toy dataset"
   ]
  },
  {
   "cell_type": "code",
   "execution_count": null,
   "metadata": {
    "collapsed": true
   },
   "outputs": [],
   "source": [
    "# # toy training dataset\n",
    "# dataset = [\n",
    "#     [1,2,3,4,5],\n",
    "#     [1,3,4,5,6],\n",
    "#     [1,3,4,5,3],\n",
    "#     [1,1,2,3,3],\n",
    "#     [0,1,5,4,5],\n",
    "#     [0,3,5,1,3],\n",
    "#     [0,2,3,5,1]\n",
    "# ]\n",
    "\n",
    "# data = np.array(dataset)"
   ]
  },
  {
   "cell_type": "code",
   "execution_count": null,
   "metadata": {
    "collapsed": true
   },
   "outputs": [],
   "source": [
    "# # split toy training data into samples and labels\n",
    "\n",
    "# x_train = data[:,1:]\n",
    "# y_train = data[:,0]\n",
    "\n",
    "# # get the size of the data\n",
    "# N,D = x_train.shape\n",
    "\n",
    "# print(\"Data has {} samples and {} features\".format(N, D))\n",
    "# print(\"training data size:\", x_train.shape)\n",
    "# print(\"training label:\", y_train.shape)"
   ]
  },
  {
   "cell_type": "code",
   "execution_count": null,
   "metadata": {
    "collapsed": true
   },
   "outputs": [],
   "source": [
    "# # test data\n",
    "# dataset_test = [\n",
    "#     [1,4,5,63,5],\n",
    "#     [1,7,22,1,4],\n",
    "#     [0,3,4,1,5],\n",
    "#     [0,66,3,2,1]\n",
    "# ]\n",
    "\n",
    "# data_test = np.array(dataset_test)"
   ]
  },
  {
   "cell_type": "code",
   "execution_count": null,
   "metadata": {
    "collapsed": true
   },
   "outputs": [],
   "source": [
    "# # split test data into samples and labels\n",
    "\n",
    "# x_test = data_test[:,1:]\n",
    "# y_test = data_test[:,0]\n",
    "\n",
    "# # get the size of the data\n",
    "# N_test,D_test = x_test.shape\n",
    "\n",
    "# print(\"Data has {} samples and {} features\".format(N_test, D_test))\n",
    "# print(\"test data size:\", x_test.shape)\n",
    "# print(\"test label:\", y_test.shape)"
   ]
  },
  {
   "cell_type": "markdown",
   "metadata": {},
   "source": [
    "### Initialize parameters \n",
    "- weight\n",
    "    - mu\n",
    "    - sigma\n",
    "- noise"
   ]
  },
  {
   "cell_type": "code",
   "execution_count": 33,
   "metadata": {
    "collapsed": false
   },
   "outputs": [
    {
     "name": "stdout",
     "output_type": "stream",
     "text": [
      "w_mu size:    (8192,)\n",
      "w_sigma size: (8192, 8192)\n"
     ]
    }
   ],
   "source": [
    "# Initialize Weight\n",
    "w_mu = np.zeros(d)\n",
    "w_sigma = np.eye(d)\n",
    "\n",
    "#Intialize noise\n",
    "sigma_square = 0.1**2\n",
    "\n",
    "print(\"w_mu size:   \", w_mu.shape)\n",
    "print(\"w_sigma size:\", w_sigma.shape)"
   ]
  },
  {
   "cell_type": "markdown",
   "metadata": {},
   "source": [
    "### posterior"
   ]
  },
  {
   "cell_type": "code",
   "execution_count": 34,
   "metadata": {
    "collapsed": false
   },
   "outputs": [
    {
     "name": "stdout",
     "output_type": "stream",
     "text": [
      "w_mu_posterior:  [-0.00012564  0.00437339 -0.00301731 ...,  0.00265083  0.06652823\n",
      "  0.00514172]\n",
      "w_sigma_posterior:  [[  9.99995767e-01   1.54125170e-10   1.64871098e-06 ...,  -2.52096364e-06\n",
      "    2.22092087e-05   1.03796264e-05]\n",
      " [  1.54125173e-10   9.99969824e-01  -3.24820060e-06 ...,  -2.83349004e-06\n",
      "    1.02156999e-04   9.44733790e-05]\n",
      " [  1.64871098e-06  -3.24820060e-06   9.98229152e-01 ...,   7.38126512e-05\n",
      "    2.73332324e-04   3.83008161e-04]\n",
      " ..., \n",
      " [ -2.52096364e-06  -2.83349004e-06   7.38126512e-05 ...,   9.99812377e-01\n",
      "    5.19889330e-04  -4.82107710e-04]\n",
      " [  2.22092087e-05   1.02156999e-04   2.73332324e-04 ...,   5.19889330e-04\n",
      "    9.41956898e-01  -2.44456948e-02]\n",
      " [  1.03796264e-05   9.44733790e-05   3.83008161e-04 ...,  -4.82107710e-04\n",
      "   -2.44456948e-02   9.78221537e-01]]\n"
     ]
    }
   ],
   "source": [
    "# posterior\n",
    "w_mu_posterior = w_mu + \\\n",
    "                    w_sigma@x_train.T @ \\\n",
    "                    inv(x_train@w_sigma@x_train.T + sigma_square*np.eye(n)) @ \\\n",
    "                    (y_train - x_train@w_mu)\n",
    "w_sigma_posterior = w_sigma - \\\n",
    "                    w_sigma@x_train.T @ \\\n",
    "                    inv(x_train@w_sigma@x_train.T + sigma_square*np.eye(n)) @x_train@w_sigma\n",
    "    \n",
    "print(\"w_mu_posterior: \", w_mu_posterior)\n",
    "print(\"w_sigma_posterior: \", w_sigma_posterior)"
   ]
  },
  {
   "cell_type": "markdown",
   "metadata": {},
   "source": [
    "### predictions"
   ]
  },
  {
   "cell_type": "code",
   "execution_count": 35,
   "metadata": {
    "collapsed": false
   },
   "outputs": [
    {
     "name": "stdout",
     "output_type": "stream",
     "text": [
      "y_star_mu_posterior:  [-0.43437234 -0.22737274  0.00474443 -0.32138411  0.1722181   0.79125813\n",
      " -0.04836966  0.22670145  0.12640039  0.40891392 -0.37452413  0.18524706\n",
      "  0.14606111 -0.39422147  0.87566562 -0.55013629  0.33845586 -0.11592337\n",
      " -0.08235394  0.40094615 -1.05972403  0.3091706   0.11635752  1.08097838\n",
      "  0.32940714 -0.38097364 -0.18640277 -0.11985206 -0.00740874  0.59625806\n",
      " -0.24343633  0.14752071 -0.17192651  0.34872624 -0.37877635 -0.17766452\n",
      "  0.09250141 -0.20053086  0.89328925  0.29056168 -0.05784095  0.41633917\n",
      " -0.03086268  0.31237121 -0.01541392 -0.77357461 -0.15560156  0.07999111\n",
      " -0.4267197   0.50973439  0.04767839 -0.26964338  0.47769727  0.10454207\n",
      " -0.25968244  0.24181997 -0.19721506  0.55780659 -0.19146226 -0.28729161\n",
      " -0.22204018 -0.1795401  -0.02040907 -0.07556416  0.11310654 -0.07709241\n",
      " -0.08365475  0.00177793 -0.09536339 -0.36247515  0.02984656 -0.32927304\n",
      " -0.10959799 -0.55599419 -0.46363094  0.14169036  0.07764367  0.41480241\n",
      "  0.25417489  0.79310554 -1.13619307  0.24991808  0.4312971   0.17630264\n",
      "  0.20414406 -0.69425343 -0.0790387   0.07025937 -0.14306991  0.07838335\n",
      " -0.1889767   0.01233561  0.0753101  -0.62576074  0.20335221  0.11244171\n",
      " -0.3111502   0.68449984 -1.10832697  0.59762579 -0.18730466 -0.02511348\n",
      "  0.72777682 -0.08509817 -0.16387083  0.11238675  0.00192825  0.03964287\n",
      "  0.40623578  0.30280122  0.01311608  0.37332898  0.07358027  0.14585746\n",
      " -0.06162925 -0.15618965  0.28183383  0.22916022  0.25265673  0.49132934\n",
      " -0.13078691 -0.31660667 -0.3330431  -0.16185569 -0.17283998 -0.50761924\n",
      " -0.12779358 -0.13666567  0.08059558 -0.2026096   0.1337038  -0.79378068\n",
      " -0.22247625  0.24821627 -0.70810519 -0.6126627  -0.56964405 -0.0202585\n",
      " -0.26431543 -0.22040993 -0.54022422 -0.55674496 -0.4204179  -0.00727297\n",
      "  1.22784247 -0.06506133 -0.12433215  0.10570518 -0.49191012  0.30814462\n",
      " -0.12832179 -0.38297834  0.11958585 -0.29945667 -0.11338512  0.18675757\n",
      " -0.47700527 -0.22617841 -0.00940816 -0.03767266  0.53886707  0.25854844\n",
      " -0.05344488 -0.13633977 -0.75524022  0.08319138 -0.23517275 -0.28889948\n",
      "  0.26514803  0.43649772 -0.16407176  0.50715771 -0.20955475 -0.04029572\n",
      " -0.11379925  0.12604408  0.09354594 -0.54616854 -0.17920479 -0.25820977\n",
      "  0.14283745  0.06517694  0.15318846 -0.18099841 -0.11211379 -0.21695705\n",
      "  0.08751658  0.42958493 -0.12407271 -0.46242251  0.14796745  0.40688819\n",
      "  0.31887189  0.00925488  0.47116466  0.36859152 -0.21726173  0.51037806\n",
      "  0.57992858 -0.78448661 -0.09137972  0.48976243 -0.07483751 -0.0425524\n",
      " -0.14065875 -0.22783887 -0.28676542 -0.55782727  0.65592984  0.29804848\n",
      " -0.95303967  0.49790107 -0.01925191  0.63184293 -0.20119374 -0.33183566\n",
      "  0.14032112  0.2973885  -0.43688941  0.32951914  0.30114842 -0.03051753\n",
      "  0.28974982  0.10465677  0.27510072  0.3711478  -0.04363803  0.03719898\n",
      " -0.19999431 -0.24449802 -0.19011712  0.33831173  0.06166659  0.55793198\n",
      " -0.56371162  0.20539175 -0.69513051  0.00926194 -0.63794493 -0.14822016]\n",
      "y_star_sigma_posterior:  [[  2.54942262e+00  -6.91467769e-03   1.14025322e-02 ...,  -9.67059662e-02\n",
      "   -2.06545516e-02   7.47129309e-02]\n",
      " [ -6.91467742e-03   1.04620876e+00  -7.91043144e-03 ...,   1.11635273e-02\n",
      "    1.01862913e-02   8.12383192e-03]\n",
      " [  1.14025321e-02  -7.91043181e-03   4.78012557e-01 ...,   9.55671261e-03\n",
      "    5.20790763e-04   6.40857895e-03]\n",
      " ..., \n",
      " [ -9.67059663e-02   1.11635269e-02   9.55671259e-03 ...,   1.23463765e+00\n",
      "   -3.94555101e-02   3.54266816e-02]\n",
      " [ -2.06545516e-02   1.01862910e-02   5.20790874e-04 ...,  -3.94555100e-02\n",
      "    1.02758466e+00  -9.30670326e-02]\n",
      " [  7.47129310e-02   8.12383183e-03   6.40857924e-03 ...,   3.54266819e-02\n",
      "   -9.30670325e-02   1.09025642e+00]]\n",
      "var:  [ 1.59669115  1.02284347  0.69138452  1.70703639  1.44857305  1.1638582\n",
      "  1.24124708  1.34329681  1.0577337   1.41034354  0.79791899  1.19204776\n",
      "  0.98246109  1.03156339  1.03639324  0.74829141  1.02783225  0.96386348\n",
      "  0.87406808  0.80088911  1.33077948  0.83855554  1.09023335  1.25900077\n",
      "  1.13081198  1.11974811  0.88353239  1.20546763  0.72659908  1.25287251\n",
      "  1.05829228  1.01906201  0.83522259  0.96660621  1.08175943  1.20687054\n",
      "  1.37791109  1.53679231  1.11513871  1.0979155   1.34182906  1.2969312\n",
      "  0.82122491  1.38477782  1.79708622  0.83373873  0.97132622  1.03103038\n",
      "  1.21856846  1.28818367  1.25986846  1.30037726  0.91426691  1.1606831\n",
      "  2.0145335   1.0894176   1.43986207  1.22335463  0.67055769  1.24674432\n",
      "  0.87319176  0.70287265  1.49000892  1.23663075  1.05607576  1.12595887\n",
      "  0.73121684  0.9790002   1.01417417  0.79978176  0.97079988  0.65008048\n",
      "  1.05591438  1.10119448  0.89617907  1.32176097  0.76076066  0.93996224\n",
      "  0.78454769  1.365197    1.07469201  1.10295162  0.96794001  1.23858394\n",
      "  1.65025645  1.24477358  0.97782851  0.91804106  0.81659734  1.31689203\n",
      "  1.00554534  0.68727736  0.8861778   1.06380631  0.85648352  1.07425712\n",
      "  0.89416196  0.90279052  1.86003728  1.37790839  1.0754159   0.65539541\n",
      "  1.07608193  0.95025305  1.47172509  1.18098657  0.96423991  1.44919585\n",
      "  1.46454965  1.09566537  1.52039019  1.4671487   0.95539642  0.9015777\n",
      "  1.39333138  0.94294656  0.91320204  1.5492939   1.21435755  1.27304502\n",
      "  0.52993652  1.1502983   1.18645355  0.93524867  0.86819854  0.96764179\n",
      "  1.2521302   0.92213925  0.85590923  1.16724769  0.93248676  0.95925721\n",
      "  0.83142493  1.33997316  0.92090038  0.99917792  1.28565707  0.71350587\n",
      "  1.38415663  0.86175785  1.31162281  1.07125205  0.96715976  1.30684908\n",
      "  1.14693979  1.38064445  1.51594177  0.79424251  1.0590224   1.31910303\n",
      "  1.22000308  1.02338493  1.13616619  1.21669565  1.06570328  2.07926175\n",
      "  0.741909    1.69639939  0.67294344  1.65740131  1.21041813  1.02560051\n",
      "  1.77439265  0.78924531  0.90790405  1.75714093  0.70683583  1.12852657\n",
      "  1.55411533  1.19206659  0.6980782   1.41315615  1.00271247  1.09164671\n",
      "  0.77886349  0.9368039   1.0764316   0.867639    0.77163229  1.17799676\n",
      "  1.05116609  0.94350066  1.1945329   1.372988    1.31087785  1.04228032\n",
      "  0.93365117  1.91184355  0.67106932  1.40284354  1.63677482  0.97547715\n",
      "  0.88771752  0.76485835  0.86958681  1.24434798  1.26102564  1.26147201\n",
      "  1.02404731  1.03676007  0.9055415   1.70823702  0.83629948  0.86260048\n",
      "  1.28251295  0.99165362  1.35203601  1.13649944  1.11256333  1.04662668\n",
      "  0.85120748  1.23234531  0.8318338   1.24904248  0.69603018  0.78021262\n",
      "  1.19753803  1.42801047  1.12336378  1.06068238  1.36779151  1.33328096\n",
      "  0.97624599  0.92022383  0.73282678  0.83843129  1.21108235  0.95680445\n",
      "  0.72027451  1.1277238   0.7149878   1.24120408  0.99589694  1.60666578\n",
      "  1.00692711  1.6740159   0.96900543  1.1111425   1.01369851  1.04415345]\n"
     ]
    }
   ],
   "source": [
    "# prediction\n",
    "y_star_mu_posterior = x_test@w_mu_posterior\n",
    "y_star_sigma_posterior = x_test@w_sigma_posterior@x_test.T + \\\n",
    "                            sigma_square*np.eye(n_test)\n",
    "\n",
    "var = np.sqrt(y_star_sigma_posterior.diagonal())\n",
    "\n",
    "print(\"y_star_mu_posterior: \", y_star_mu_posterior)\n",
    "print(\"y_star_sigma_posterior: \", y_star_sigma_posterior)\n",
    "print(\"var: \", var)"
   ]
  },
  {
   "cell_type": "markdown",
   "metadata": {},
   "source": [
    "### experiment on prediction result"
   ]
  },
  {
   "cell_type": "code",
   "execution_count": 36,
   "metadata": {
    "collapsed": false
   },
   "outputs": [
    {
     "name": "stdout",
     "output_type": "stream",
     "text": [
      "accuaracy =  0.608333333333\n"
     ]
    }
   ],
   "source": [
    "# fixed threshold\n",
    "\n",
    "# get the prediction\n",
    "threshold = 0\n",
    "\n",
    "predictions = y_star_mu_posterior.copy()\n",
    "predictions[ predictions<threshold ] = -1\n",
    "predictions[ predictions>=threshold ] = 1\n",
    "\n",
    "# compare predictions to true label\n",
    "n_correct = sum(predictions == y_test)\n",
    "\n",
    "print(\"accuaracy = \", n_correct/n_test)"
   ]
  },
  {
   "cell_type": "code",
   "execution_count": 37,
   "metadata": {
    "collapsed": false
   },
   "outputs": [
    {
     "name": "stdout",
     "output_type": "stream",
     "text": [
      "best accuracy is :  0.608333333333\n",
      "best threshold is:  1.7763568394e-15\n"
     ]
    }
   ],
   "source": [
    "# find best threshold\n",
    "max_correct, best_threshold = 0, 0\n",
    "record_correct = []\n",
    "for threshold in np.arange(-2,2,0.1):\n",
    "    predictions = y_star_mu_posterior.copy()\n",
    "    predictions[ predictions<threshold ] = -1\n",
    "    predictions[ predictions>=threshold ] = 1\n",
    "    n_correct = sum(predictions == y_test)\n",
    "    record_correct.append( n_correct )\n",
    "    if n_correct > max_correct:\n",
    "        max_correct = n_correct\n",
    "        best_threshold = threshold\n",
    "    \n",
    "record_correct = np.array( record_correct )\n",
    "print( \"best accuracy is : \", max_correct/n_test )\n",
    "print( \"best threshold is: \", best_threshold )"
   ]
  },
  {
   "cell_type": "code",
   "execution_count": 103,
   "metadata": {
    "collapsed": false
   },
   "outputs": [
    {
     "name": "stdout",
     "output_type": "stream",
     "text": [
      "[604 604 604 604 604 604 604 604 604 604 590 592 587 598 601 616 607 618\n",
      " 624 625 629 630 641 639 635 635 638 637 635 630 629 620 618 620 624 630\n",
      " 628 629 625 625]\n"
     ]
    },
    {
     "data": {
      "text/plain": [
       "[<matplotlib.lines.Line2D at 0x130537710>]"
      ]
     },
     "execution_count": 103,
     "metadata": {},
     "output_type": "execute_result"
    },
    {
     "data": {
      "image/png": "[encoded data removed]",
      "text/plain": [
       "<matplotlib.figure.Figure at 0x1322552e8>"
      ]
     },
     "metadata": {},
     "output_type": "display_data"
    }
   ],
   "source": [
    "# plot record of correctness w.r.t threshold\n",
    "print(record_correct)\n",
    "# print(record_correct)\n",
    "plt.plot(np.arange(-2,2,0.1), record_correct/n_test)"
   ]
  },
  {
   "cell_type": "code",
   "execution_count": 92,
   "metadata": {
    "collapsed": false
   },
   "outputs": [
    {
     "data": {
      "text/plain": [
       "<matplotlib.collections.PolyCollection at 0x132fac908>"
      ]
     },
     "execution_count": 92,
     "metadata": {},
     "output_type": "execute_result"
    },
    {
     "data": {
      "image/png": "[encoded data removed]",
      "text/plain": [
       "<matplotlib.figure.Figure at 0x131fba898>"
      ]
     },
     "metadata": {},
     "output_type": "display_data"
    }
   ],
   "source": [
    "# plot\n",
    "x_index = [i for i in range(n_test)]\n",
    "plt.scatter(x_index, y_test, c='r', s=50, zorder=10)\n",
    "plt.plot(x_index, y_star_mu_posterior,'k', lw=3, zorder=9)\n",
    "plt.fill_between(x_index, y_star_mu_posterior - 2*var, y_star_mu_posterior + 2*var, alpha=0.5, color='k')"
   ]
  }
 ],
 "metadata": {
  "kernelspec": {
   "display_name": "Python 3",
   "language": "python",
   "name": "python3"
  },
  "language_info": {
   "codemirror_mode": {
    "name": "ipython",
    "version": 3
   },
   "file_extension": ".py",
   "mimetype": "text/x-python",
   "name": "python",
   "nbconvert_exporter": "python",
   "pygments_lexer": "ipython3",
   "version": "3.6.0"
  }
 },
 "nbformat": 4,
 "nbformat_minor": 2
}
