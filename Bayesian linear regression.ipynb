{
 "cells": [
  {
   "cell_type": "code",
   "execution_count": 1,
   "metadata": {
    "collapsed": true
   },
   "outputs": [],
   "source": [
    "%matplotlib inline \n",
    "import numpy as np\n",
    "from numpy.linalg import inv\n",
    "from matplotlib import pyplot as plt\n",
    "\n",
    "np.random.seed(0)"
   ]
  },
  {
   "cell_type": "markdown",
   "metadata": {},
   "source": [
    "### Process training and test data\n",
    "\n",
    "- load data\n",
    "- split into samples and labels for training and test data"
   ]
  },
  {
   "cell_type": "code",
   "execution_count": 2,
   "metadata": {
    "collapsed": true
   },
   "outputs": [],
   "source": [
    "# read data into program\n",
    "\n",
    "## read larger data\n",
    "# training_dataset = np.load('train.npy')\n",
    "# test_dataset = np.load('test.npy')\n",
    "\n",
    "# read smaller data\n",
    "training_dataset = np.load('train_small.npz')\n",
    "test_dataset = np.load('test_small.npz')"
   ]
  },
  {
   "cell_type": "code",
   "execution_count": 4,
   "metadata": {
    "collapsed": false
   },
   "outputs": [
    {
     "name": "stdout",
     "output_type": "stream",
     "text": [
      "X_train shape:  (24000, 2048)\n",
      "Y_train shape:  (24000,)\n"
     ]
    }
   ],
   "source": [
    "# get training data\n",
    "# X_train = training_dataset[()]['train_x']\n",
    "# Y_train = training_dataset[()]['train_labels']\n",
    "X_train = training_dataset['train_x']\n",
    "Y_train = training_dataset['train_labels']\n",
    "\n",
    "\n",
    "N,D = X_train.shape\n",
    "\n",
    "print(\"X_train shape: \", X_train.shape)\n",
    "print(\"Y_train shape: \", Y_train.shape)"
   ]
  },
  {
   "cell_type": "code",
   "execution_count": 5,
   "metadata": {
    "collapsed": false
   },
   "outputs": [
    {
     "name": "stdout",
     "output_type": "stream",
     "text": [
      "X_test shape:  (1000, 2048)\n",
      "Y_test shape:  (1000,)\n"
     ]
    }
   ],
   "source": [
    "# get test data\n",
    "# X_test = test_dataset[()]['test_x']\n",
    "# Y_test = test_dataset[()]['test_labels']\n",
    "X_test = test_dataset['test_x']\n",
    "Y_test = test_dataset['test_labels']\n",
    "\n",
    "N_test,D_test = X_test.shape\n",
    "\n",
    "print(\"X_test shape: \", X_test.shape)\n",
    "print(\"Y_test shape: \", Y_test.shape)"
   ]
  },
  {
   "cell_type": "code",
   "execution_count": 6,
   "metadata": {
    "collapsed": false
   },
   "outputs": [
    {
     "name": "stdout",
     "output_type": "stream",
     "text": [
      "choose 2400 samples from the training set\n",
      "x_train shape:  (2400, 2048)\n",
      "y_train shape:  (2400,)\n",
      "2400 2048\n"
     ]
    }
   ],
   "source": [
    "# sample from training data\n",
    "\n",
    "# choose how many samples to sample\n",
    "n_sample_train = 0.1\n",
    "\n",
    "# get index\n",
    "idx_train = np.random.choice(N, int(n_sample_train*N), replace=False)\n",
    "\n",
    "# map index to rows\n",
    "x_train = X_train[idx_train,:]\n",
    "y_train = Y_train[idx_train]\n",
    "\n",
    "# centerize training data\n",
    "# x_train = x_train - np.mean( x_train, axis=0 )\n",
    "\n",
    "# deal with labels to -1 and 1\n",
    "y_train[ y_train <0.5 ] = -1\n",
    "\n",
    "n,d = x_train.shape\n",
    "\n",
    "print(\"choose {} samples from the training set\".format(int(n_sample_train*N)))\n",
    "print(\"x_train shape: \", x_train.shape)\n",
    "print(\"y_train shape: \", y_train.shape)\n",
    "print(n,d)"
   ]
  },
  {
   "cell_type": "code",
   "execution_count": 7,
   "metadata": {
    "collapsed": false
   },
   "outputs": [
    {
     "name": "stdout",
     "output_type": "stream",
     "text": [
      "choose 200 samples from the test set\n",
      "x_test:  (200, 2048)\n",
      "y_test:  (200,)\n",
      "200 2048\n"
     ]
    }
   ],
   "source": [
    "# sample from test data\n",
    "\n",
    "# choose how many samples to sample\n",
    "n_sample_test = 0.2\n",
    "# get index\n",
    "idx_test = np.random.choice(N_test, int(n_sample_test*N_test), replace=False)\n",
    "\n",
    "# map index to rows\n",
    "x_test = X_test[idx_test,:]\n",
    "y_test = Y_test[idx_test]\n",
    "\n",
    "# x_test = x_test - np.mean( x_test, axis=0 )\n",
    "\n",
    "y_test[ y_test<0.5 ] = -1\n",
    "\n",
    "n_test, d_test = x_test.shape\n",
    "\n",
    "print(\"choose {} samples from the test set\".format(int(n_sample_test*N_test)))\n",
    "print(\"x_test: \", x_test.shape)\n",
    "print(\"y_test: \", y_test.shape)\n",
    "print(n_test, d_test)"
   ]
  },
  {
   "cell_type": "markdown",
   "metadata": {},
   "source": [
    "### Feature Selections\n",
    "- [x] PCA\n",
    "- [] SVD"
   ]
  },
  {
   "cell_type": "code",
   "execution_count": 23,
   "metadata": {
    "collapsed": false
   },
   "outputs": [
    {
     "name": "stdout",
     "output_type": "stream",
     "text": [
      "(2000,)\n",
      "(2000, 2000)\n",
      "[  2.10090625e-01   1.55195644e-01   1.20590379e-01 ...,   2.19310022e-06\n",
      "   2.08173105e-06   9.67088850e-13]\n"
     ]
    }
   ],
   "source": [
    "# feature selection using PCA\n",
    "\n",
    "# cov_training = np.cov( x_train )\n",
    "# eigenValues_training, eigenVectors_training = np.linalg.eig( cov_training )\n",
    "# print( eigenValues_training.shape )\n",
    "# print( eigenVectors_training.shape)\n",
    "\n",
    "# eigen_ind = eigenValues_training.argsort()[::-1]\n",
    "# eigenValues_training = eigenValues_training[eigen_ind]\n",
    "# eigenVectors_training = eigenVectors_training[:, eigen_ind]\n",
    "# print(eigenValues_training)"
   ]
  },
  {
   "cell_type": "code",
   "execution_count": 22,
   "metadata": {
    "collapsed": false
   },
   "outputs": [
    {
     "data": {
      "image/png": "[encoded data removed]",
      "text/plain": [
       "<matplotlib.figure.Figure at 0x1303b70b8>"
      ]
     },
     "metadata": {},
     "output_type": "display_data"
    }
   ],
   "source": [
    "# # draw eigen values\n",
    "# plt.plot( eigenValues_training[:200] )\n",
    "# plt.ylabel( \"eigen values\" )\n",
    "# plt.show()"
   ]
  },
  {
   "cell_type": "code",
   "execution_count": 8,
   "metadata": {
    "collapsed": false
   },
   "outputs": [
    {
     "name": "stdout",
     "output_type": "stream",
     "text": [
      "U (2400, 2048)\n",
      "s (2048,)\n",
      "V (2048, 2048)\n"
     ]
    }
   ],
   "source": [
    "# do feature selection using SVD\n",
    "\n",
    "U, s, V = np.linalg.svd(x_train, full_matrices=False)\n",
    "print(\"U\", U.shape)\n",
    "print(\"s\", s.shape)\n",
    "print(\"V\", V.shape)"
   ]
  },
  {
   "cell_type": "code",
   "execution_count": 9,
   "metadata": {
    "collapsed": false
   },
   "outputs": [
    {
     "data": {
      "image/png": "[encoded data removed]",
      "text/plain": [
       "<matplotlib.figure.Figure at 0x106015588>"
      ]
     },
     "metadata": {},
     "output_type": "display_data"
    }
   ],
   "source": [
    "# draw s values\n",
    "plt.plot( s[:500] )\n",
    "plt.ylabel( \"s values\" )\n",
    "plt.show()"
   ]
  },
  {
   "cell_type": "code",
   "execution_count": 12,
   "metadata": {
    "collapsed": false
   },
   "outputs": [
    {
     "name": "stdout",
     "output_type": "stream",
     "text": [
      "x_train shape: (2400, 2048)\n"
     ]
    }
   ],
   "source": [
    "# get new dataset with selected features\n",
    "n_FS_SVD = 200\n",
    "s[n_FS_SVD:] = 0\n",
    "S = np.diag(s)\n",
    "# x_train = U@S@V\n",
    "x_train = U[:,:n_FS_SVD]@S[:n_FS_SVD,:n_FS_SVD]@V[:n_FS_SVD,:]\n",
    "print(\"x_train shape:\", x_train.shape)"
   ]
  },
  {
   "cell_type": "code",
   "execution_count": 13,
   "metadata": {
    "collapsed": false
   },
   "outputs": [
    {
     "name": "stdout",
     "output_type": "stream",
     "text": [
      "0.545\n"
     ]
    }
   ],
   "source": [
    "# get baseline\n",
    "positive_rate_test = sum(y_test == 1)/n_test\n",
    "baseline = positive_rate_test if positive_rate_test >= 0.5 else 1-positive_rate_test\n",
    "print(baseline)"
   ]
  },
  {
   "cell_type": "markdown",
   "metadata": {},
   "source": [
    "### experiment on toy dataset"
   ]
  },
  {
   "cell_type": "code",
   "execution_count": null,
   "metadata": {
    "collapsed": true
   },
   "outputs": [],
   "source": [
    "# # toy training dataset\n",
    "# dataset = [\n",
    "#     [1,2,3,4,5],\n",
    "#     [1,3,4,5,6],\n",
    "#     [1,3,4,5,3],\n",
    "#     [1,1,2,3,3],\n",
    "#     [0,1,5,4,5],\n",
    "#     [0,3,5,1,3],\n",
    "#     [0,2,3,5,1]\n",
    "# ]\n",
    "\n",
    "# data = np.array(dataset)"
   ]
  },
  {
   "cell_type": "code",
   "execution_count": null,
   "metadata": {
    "collapsed": true
   },
   "outputs": [],
   "source": [
    "# # split toy training data into samples and labels\n",
    "\n",
    "# x_train = data[:,1:]\n",
    "# y_train = data[:,0]\n",
    "\n",
    "# # get the size of the data\n",
    "# N,D = x_train.shape\n",
    "\n",
    "# print(\"Data has {} samples and {} features\".format(N, D))\n",
    "# print(\"training data size:\", x_train.shape)\n",
    "# print(\"training label:\", y_train.shape)"
   ]
  },
  {
   "cell_type": "code",
   "execution_count": null,
   "metadata": {
    "collapsed": true
   },
   "outputs": [],
   "source": [
    "# # test data\n",
    "# dataset_test = [\n",
    "#     [1,4,5,63,5],\n",
    "#     [1,7,22,1,4],\n",
    "#     [0,3,4,1,5],\n",
    "#     [0,66,3,2,1]\n",
    "# ]\n",
    "\n",
    "# data_test = np.array(dataset_test)"
   ]
  },
  {
   "cell_type": "code",
   "execution_count": null,
   "metadata": {
    "collapsed": true
   },
   "outputs": [],
   "source": [
    "# # split test data into samples and labels\n",
    "\n",
    "# x_test = data_test[:,1:]\n",
    "# y_test = data_test[:,0]\n",
    "\n",
    "# # get the size of the data\n",
    "# N_test,D_test = x_test.shape\n",
    "\n",
    "# print(\"Data has {} samples and {} features\".format(N_test, D_test))\n",
    "# print(\"test data size:\", x_test.shape)\n",
    "# print(\"test label:\", y_test.shape)"
   ]
  },
  {
   "cell_type": "markdown",
   "metadata": {},
   "source": [
    "### Initialize parameters \n",
    "- weight\n",
    "    - mu\n",
    "    - sigma\n",
    "- noise"
   ]
  },
  {
   "cell_type": "code",
   "execution_count": 14,
   "metadata": {
    "collapsed": false
   },
   "outputs": [
    {
     "name": "stdout",
     "output_type": "stream",
     "text": [
      "w_mu size:    (2048,)\n",
      "w_sigma size: (2048, 2048)\n"
     ]
    }
   ],
   "source": [
    "# Initialize Weight\n",
    "w_mu = np.zeros(d)\n",
    "w_sigma = np.eye(d)\n",
    "\n",
    "#Intialize noise\n",
    "sigma_square = 0.1**2\n",
    "\n",
    "print(\"w_mu size:   \", w_mu.shape)\n",
    "print(\"w_sigma size:\", w_sigma.shape)"
   ]
  },
  {
   "cell_type": "markdown",
   "metadata": {},
   "source": [
    "### posterior"
   ]
  },
  {
   "cell_type": "code",
   "execution_count": 15,
   "metadata": {
    "collapsed": false
   },
   "outputs": [
    {
     "name": "stdout",
     "output_type": "stream",
     "text": [
      "w_mu_posterior:  [ 0.01506063  0.30026696  0.11453489 ..., -0.00074515 -0.06658336\n",
      "  0.12103533]\n",
      "w_sigma_posterior:  [[  9.96815276e-01   1.07487021e-03   2.31566711e-03 ...,  -3.85797270e-05\n",
      "    3.19300369e-05  -1.25783203e-03]\n",
      " [  1.07487021e-03   8.65808746e-01   3.43741933e-02 ...,   1.08363402e-05\n",
      "   -2.67306945e-03  -3.46096548e-03]\n",
      " [  2.31566711e-03   3.43741933e-02   7.94953565e-01 ...,  -1.97532267e-04\n",
      "    4.67698983e-04   3.86404107e-03]\n",
      " ..., \n",
      " [ -3.85797270e-05   1.08363402e-05  -1.97532267e-04 ...,   9.99987127e-01\n",
      "    4.23514438e-05  -8.50179306e-05]\n",
      " [  3.19300369e-05  -2.67306945e-03   4.67698983e-04 ...,   4.23514438e-05\n",
      "    9.74123628e-01  -1.93107311e-02]\n",
      " [ -1.25783203e-03  -3.46096548e-03   3.86404107e-03 ...,  -8.50179306e-05\n",
      "   -1.93107311e-02   9.18470405e-01]]\n"
     ]
    }
   ],
   "source": [
    "# posterior\n",
    "w_mu_posterior = w_mu + \\\n",
    "                    w_sigma@x_train.T @ \\\n",
    "                    inv(x_train@w_sigma@x_train.T + sigma_square*np.eye(n)) @ \\\n",
    "                    (y_train - x_train@w_mu)\n",
    "w_sigma_posterior = w_sigma - \\\n",
    "                    w_sigma@x_train.T @ \\\n",
    "                    inv(x_train@w_sigma@x_train.T + sigma_square*np.eye(n)) @x_train@w_sigma\n",
    "    \n",
    "print(\"w_mu_posterior: \", w_mu_posterior)\n",
    "print(\"w_sigma_posterior: \", w_sigma_posterior)"
   ]
  },
  {
   "cell_type": "markdown",
   "metadata": {},
   "source": [
    "### predictions"
   ]
  },
  {
   "cell_type": "code",
   "execution_count": 16,
   "metadata": {
    "collapsed": false
   },
   "outputs": [
    {
     "name": "stdout",
     "output_type": "stream",
     "text": [
      "y_star_mu_posterior:  [-0.20220927  0.07134242 -0.11080223  0.50023577 -0.03075466 -0.55728165\n",
      " -0.44838299 -0.54364517 -0.30088805  0.49290229  0.41968054 -0.51973481\n",
      "  0.38081642  0.1397042   0.03013455  0.46581366 -0.11735891 -0.21491069\n",
      " -0.09112867 -0.13074897  0.12591407 -0.02404979  0.03767366  0.16642916\n",
      "  0.04254568  0.20704846  0.17641143 -0.02090367 -0.26251113  0.87794048\n",
      "  0.05553586 -0.2433097  -0.04439663 -0.13317703  0.06781683 -0.17912327\n",
      "  0.28485558 -0.28169286  0.0155821  -0.00354695  0.25731995 -0.1692028\n",
      "  0.73801108 -0.30873974 -0.16218615  0.14663473  0.29383245 -0.05496575\n",
      " -0.15309052  0.38736505  0.53344737  0.12596452 -0.18354675  0.71045793\n",
      " -0.02781661 -0.14180229 -0.28762085 -0.07151428 -0.0328846   0.02719732\n",
      "  0.02492218  0.12617616  0.36407912 -0.39583285  0.03453122 -0.02107283\n",
      " -0.06636097  0.50287147  0.6701624   0.02287158 -0.18642418 -0.33369811\n",
      "  0.34484987  0.15366478 -0.40769298 -0.16222028 -0.12673623  0.16568757\n",
      " -0.29368718  0.26779316  0.72799796  0.073458    0.87488032  0.00221556\n",
      "  0.05997203  0.44630386  0.11595227  0.04854246 -0.0918993   0.25570829\n",
      " -0.22177156 -0.49374634  0.23912509  0.25101947 -0.41901545 -0.12166449\n",
      "  0.22251181 -0.36087317 -0.43971736 -0.05954425  0.05116369  0.04686108\n",
      "  0.18432976 -0.46590734 -0.43125494  0.13694785  0.41509253  0.47312905\n",
      " -0.01380174  0.18346291  0.10205082  0.42270048  0.1553272   0.23949612\n",
      "  0.60734997 -0.03358346  0.53166449  0.55771088 -0.5909511  -0.4251763\n",
      " -0.33253465 -0.44318205  0.0726761   0.16416852 -0.48671091 -0.26830806\n",
      "  0.10423215 -0.2976385   0.86939797 -0.41262954 -0.15817591  0.29222198\n",
      "  0.0660652  -0.32544848 -0.03681914 -0.02070289  0.1366187   0.529512\n",
      "  0.06717375  0.23721059  0.01411052 -0.02471555  0.30729491 -0.00158236\n",
      " -0.11483997  0.00424436  0.04367827 -0.55655332  0.47738591 -0.40559269\n",
      " -0.00725022 -0.45241747  0.24800475 -0.12074531  0.08938876  0.73497147\n",
      " -0.60538716  0.02479004 -0.21344158 -0.54651508  0.27612912  0.43521869\n",
      "  0.20719722 -0.08827083 -0.51766484  0.05075085 -0.15009905  0.08164376\n",
      "  0.20665251  0.17418145 -0.52045805 -0.16982837  0.2127005   0.25217786\n",
      "  0.39301859 -0.37730346 -0.32692988 -0.28240413 -0.33636844 -0.66861123\n",
      " -0.34491229 -0.15430548  0.36933127 -0.15409579 -0.89378662  0.14414967\n",
      "  0.20071494  0.457601    0.19489873 -1.13771849  1.05020531  1.05807098\n",
      " -0.51973621 -0.1069114  -0.43668025  0.10092585 -0.30078944  0.20419386\n",
      "  0.00671953 -0.41510248]\n",
      "y_star_sigma_posterior:  [[ 0.30212402 -0.00323493  0.00649835 ...,  0.00166001  0.00408851\n",
      "   0.00442851]\n",
      " [-0.00323493  0.32350658 -0.00168852 ..., -0.00299366 -0.01152499\n",
      "  -0.00857407]\n",
      " [ 0.00649835 -0.00168852  0.235093   ..., -0.00173769 -0.00192651\n",
      "  -0.01166039]\n",
      " ..., \n",
      " [ 0.00166001 -0.00299366 -0.00173769 ...,  0.29033558  0.01425557\n",
      "   0.01290602]\n",
      " [ 0.00408851 -0.01152499 -0.00192651 ...,  0.01425557  0.34288361\n",
      "   0.00645929]\n",
      " [ 0.00442851 -0.00857407 -0.01166039 ...,  0.01290602  0.00645929\n",
      "   0.38577156]]\n",
      "var:  [ 0.54965809  0.56877639  0.4848639   0.54781209  0.46434097  0.61200013\n",
      "  0.42494461  0.71297484  0.35981796  0.4440062   0.63675944  0.38000449\n",
      "  0.46611185  0.51822888  0.40254872  0.59808711  0.51246283  0.63212702\n",
      "  0.50916853  0.54152325  0.60890778  0.62864752  0.2829009   0.55772627\n",
      "  0.45329224  0.40733078  0.40842431  0.45541471  0.38985887  0.49875864\n",
      "  0.46693219  0.37831149  0.42838793  0.55752413  0.48105034  0.40135923\n",
      "  0.54730534  0.61063698  0.60777957  0.60588243  0.61213666  0.45682092\n",
      "  0.44610249  0.47463924  0.58661288  0.58989397  0.45817414  0.63524242\n",
      "  0.60711543  0.62608967  0.51702442  0.41711272  0.49677444  0.5795989\n",
      "  0.53760399  0.42177891  0.53630592  0.38542757  0.43867661  0.46603539\n",
      "  0.40249069  0.52191819  0.53465427  0.35379818  0.59500194  0.57791781\n",
      "  0.38517813  0.38627743  0.72344084  0.73526752  0.5317825   0.53000492\n",
      "  0.45913804  0.55387557  0.45080066  0.5084553   0.45929081  0.62296798\n",
      "  0.76575805  0.45506588  0.42153098  0.76574702  0.74705923  0.4789415\n",
      "  0.81686775  0.61647427  0.48643649  0.6660013   0.69791234  0.47290915\n",
      "  0.45758749  0.65353807  0.50925947  0.425241    0.49963824  0.3795773\n",
      "  0.42719172  0.50178235  0.48573253  0.41064692  0.46715697  0.38298485\n",
      "  0.45856659  0.5511154   0.55169951  0.48858376  0.49939797  0.36693042\n",
      "  0.47136993  0.3984833   0.56934832  0.56402328  0.4252596   0.39083016\n",
      "  0.41952218  0.48997685  0.60515045  0.55655415  0.47567718  0.46850261\n",
      "  0.7931288   0.46416465  0.56943462  0.52398456  0.58351332  0.30554846\n",
      "  0.43019772  0.52558777  0.44033857  0.54269607  0.56689203  0.65426235\n",
      "  0.45955041  0.50297026  0.60708653  0.36649573  0.38299231  0.41535225\n",
      "  0.5750222   0.44455542  0.41327099  0.51519443  0.68553032  0.46057836\n",
      "  0.47413262  0.56002849  0.47651125  0.57992566  0.54276242  0.70039137\n",
      "  0.54021188  0.51269705  0.43241329  0.37548997  0.61423423  0.54142997\n",
      "  0.43344411  0.55695229  0.43992145  0.46891505  0.4623599   0.62813016\n",
      "  0.45346539  0.51632684  0.42560481  0.53896925  0.39534458  0.59279538\n",
      "  0.42685294  0.49127796  0.52479793  0.49084651  0.33929311  0.44641515\n",
      "  0.6174333   0.47591201  0.51182626  0.35754517  0.34268926  0.61593808\n",
      "  0.45517788  0.55111503  0.78267265  0.46931118  0.47560273  0.48908912\n",
      "  0.50934803  0.65708691  0.40557921  0.59460362  0.48755932  0.67606993\n",
      "  0.40405147  0.41749088  0.45627605  0.54664696  0.61258382  0.53882797\n",
      "  0.58556264  0.62110511]\n"
     ]
    }
   ],
   "source": [
    "# prediction\n",
    "y_star_mu_posterior = x_test@w_mu_posterior\n",
    "y_star_sigma_posterior = x_test@w_sigma_posterior@x_test.T + \\\n",
    "                            sigma_square*np.eye(n_test)\n",
    "\n",
    "var = np.sqrt(y_star_sigma_posterior.diagonal())\n",
    "\n",
    "print(\"y_star_mu_posterior: \", y_star_mu_posterior)\n",
    "print(\"y_star_sigma_posterior: \", y_star_sigma_posterior)\n",
    "print(\"var: \", var)"
   ]
  },
  {
   "cell_type": "markdown",
   "metadata": {},
   "source": [
    "### experiment on prediction result"
   ]
  },
  {
   "cell_type": "code",
   "execution_count": 17,
   "metadata": {
    "collapsed": false
   },
   "outputs": [
    {
     "name": "stdout",
     "output_type": "stream",
     "text": [
      "accuaracy =  0.515\n"
     ]
    }
   ],
   "source": [
    "# fixed threshold\n",
    "\n",
    "# get the prediction\n",
    "threshold = 0\n",
    "\n",
    "predictions = y_star_mu_posterior.copy()\n",
    "predictions[ predictions<threshold ] = -1\n",
    "predictions[ predictions>=threshold ] = 1\n",
    "\n",
    "# compare predictions to true label\n",
    "n_correct = sum(predictions == y_test)\n",
    "\n",
    "print(\"accuaracy = \", n_correct/n_test)"
   ]
  },
  {
   "cell_type": "code",
   "execution_count": 18,
   "metadata": {
    "collapsed": false
   },
   "outputs": [
    {
     "name": "stdout",
     "output_type": "stream",
     "text": [
      "best accuracy is :  0.58\n",
      "best threshold is:  -0.5\n"
     ]
    }
   ],
   "source": [
    "# find best threshold\n",
    "max_correct, best_threshold = 0, 0\n",
    "record_correct = []\n",
    "for threshold in np.arange(-2,2,0.1):\n",
    "    predictions = y_star_mu_posterior.copy()\n",
    "    predictions[ predictions<threshold ] = -1\n",
    "    predictions[ predictions>=threshold ] = 1\n",
    "    n_correct = sum(predictions == y_test)\n",
    "    record_correct.append( n_correct )\n",
    "    if n_correct > max_correct:\n",
    "        max_correct = n_correct\n",
    "        best_threshold = threshold\n",
    "    \n",
    "record_correct = np.array( record_correct )\n",
    "print( \"best accuracy is : \", max_correct/n_test )\n",
    "print( \"best threshold is: \", best_threshold )"
   ]
  },
  {
   "cell_type": "code",
   "execution_count": 19,
   "metadata": {
    "collapsed": false
   },
   "outputs": [
    {
     "name": "stdout",
     "output_type": "stream",
     "text": [
      "[109 109 109 109 109 109 109 109 109 109 110 110 111 111 113 116 113 115\n",
      " 111 103 103 101 105 103  98  96  94  92  90  91  91  91  91  91  91  91\n",
      "  91  91  91  91]\n"
     ]
    },
    {
     "data": {
      "text/plain": [
       "[<matplotlib.lines.Line2D at 0x127b15588>]"
      ]
     },
     "execution_count": 19,
     "metadata": {},
     "output_type": "execute_result"
    },
    {
     "data": {
      "image/png": "[encoded data removed]",
      "text/plain": [
       "<matplotlib.figure.Figure at 0x111bb4ba8>"
      ]
     },
     "metadata": {},
     "output_type": "display_data"
    }
   ],
   "source": [
    "# plot record of correctness w.r.t threshold\n",
    "print(record_correct)\n",
    "# print(record_correct)\n",
    "plt.plot(np.arange(-2,2,0.1), record_correct/n_test)"
   ]
  },
  {
   "cell_type": "code",
   "execution_count": 20,
   "metadata": {
    "collapsed": false
   },
   "outputs": [
    {
     "data": {
      "text/plain": [
       "<matplotlib.collections.PolyCollection at 0x125349f28>"
      ]
     },
     "execution_count": 20,
     "metadata": {},
     "output_type": "execute_result"
    },
    {
     "data": {
      "image/png": "[encoded data removed]",
      "text/plain": [
       "<matplotlib.figure.Figure at 0x111bc3710>"
      ]
     },
     "metadata": {},
     "output_type": "display_data"
    }
   ],
   "source": [
    "# plot\n",
    "x_index = [i for i in range(n_test)]\n",
    "plt.scatter(x_index, y_test, c='r', s=50, zorder=10)\n",
    "plt.plot(x_index, y_star_mu_posterior,'k', lw=3, zorder=9)\n",
    "plt.fill_between(x_index, y_star_mu_posterior - 2*var, y_star_mu_posterior + 2*var, alpha=0.5, color='k')"
   ]
  }
 ],
 "metadata": {
  "kernelspec": {
   "display_name": "Python 3",
   "language": "python",
   "name": "python3"
  },
  "language_info": {
   "codemirror_mode": {
    "name": "ipython",
    "version": 3
   },
   "file_extension": ".py",
   "mimetype": "text/x-python",
   "name": "python",
   "nbconvert_exporter": "python",
   "pygments_lexer": "ipython3",
   "version": "3.6.0"
  }
 },
 "nbformat": 4,
 "nbformat_minor": 2
}
