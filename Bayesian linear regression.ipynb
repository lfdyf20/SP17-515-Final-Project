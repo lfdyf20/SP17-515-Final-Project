{
 "cells": [
  {
   "cell_type": "code",
   "execution_count": 22,
   "metadata": {
    "collapsed": true
   },
   "outputs": [],
   "source": [
    "%matplotlib inline \n",
    "import numpy as np\n",
    "from numpy.linalg import inv\n",
    "from matplotlib import pyplot as plt\n",
    "\n",
    "np.random.seed(0)"
   ]
  },
  {
   "cell_type": "code",
   "execution_count": 2,
   "metadata": {
    "collapsed": true
   },
   "outputs": [],
   "source": [
    "# read data into program\n",
    "\n",
    "training_dataset = np.load('train.npy')\n",
    "test_dataset = np.load('test.npy')"
   ]
  },
  {
   "cell_type": "code",
   "execution_count": 17,
   "metadata": {
    "collapsed": false
   },
   "outputs": [
    {
     "name": "stdout",
     "output_type": "stream",
     "text": [
      "X_train shape:  (20000, 8192)\n",
      "Y_train shape:  (20000,)\n"
     ]
    }
   ],
   "source": [
    "# get training data\n",
    "X_train = training_dataset[()]['train_x']\n",
    "Y_train = training_dataset[()]['train_labels']\n",
    "\n",
    "N,D = X_train.shape\n",
    "\n",
    "print(\"X_train shape: \", X_train.shape)\n",
    "print(\"Y_train shape: \", Y_train.shape)"
   ]
  },
  {
   "cell_type": "code",
   "execution_count": 18,
   "metadata": {
    "collapsed": false
   },
   "outputs": [
    {
     "name": "stdout",
     "output_type": "stream",
     "text": [
      "X_test shape:  (1200, 8192)\n",
      "Y_test shape:  (1200,)\n"
     ]
    }
   ],
   "source": [
    "# get test data\n",
    "X_test = test_dataset[()]['test_x']\n",
    "Y_test = test_dataset[()]['test_labels']\n",
    "\n",
    "N_test,D_test = X_test.shape\n",
    "\n",
    "print(\"X_test shape: \", X_test.shape)\n",
    "print(\"Y_test shape: \", Y_test.shape)"
   ]
  },
  {
   "cell_type": "code",
   "execution_count": 93,
   "metadata": {
    "collapsed": false
   },
   "outputs": [
    {
     "name": "stdout",
     "output_type": "stream",
     "text": [
      "choose 4000 samples from the training set\n",
      "x_train shape:  (4000, 8192)\n",
      "y_train shape:  (4000,)\n",
      "4000 8192\n"
     ]
    }
   ],
   "source": [
    "# sample from training data\n",
    "\n",
    "# choose how many samples to sample\n",
    "n_sample_train = 0.2\n",
    "# get index\n",
    "idx_train = np.random.choice(N, int(n_sample_train*N), replace=False)\n",
    "\n",
    "# map index to rows\n",
    "x_train = X_train[idx_train,:]\n",
    "y_train = Y_train[idx_train]\n",
    "\n",
    "# deal with labels to -1 and 1\n",
    "y_train[ y_train <0.5 ] = -1\n",
    "\n",
    "n,d = x_train.shape\n",
    "\n",
    "print(\"choose {} samples from the training set\".format(int(n_sample_train*N)))\n",
    "print(\"x_train shape: \", x_train.shape)\n",
    "print(\"y_train shape: \", y_train.shape)\n",
    "print(n,d)"
   ]
  },
  {
   "cell_type": "code",
   "execution_count": 65,
   "metadata": {
    "collapsed": false
   },
   "outputs": [
    {
     "name": "stdout",
     "output_type": "stream",
     "text": [
      "choose 1200 samples from the test set\n",
      "x_test:  (1200, 8192)\n",
      "y_test:  (1200,)\n",
      "1200 8192\n"
     ]
    }
   ],
   "source": [
    "# sample from test data\n",
    "\n",
    "# choose how many samples to sample\n",
    "n_sample_test = 1\n",
    "# get index\n",
    "idx_test = np.random.choice(N_test, int(n_sample_test*N_test), replace=False)\n",
    "\n",
    "# map index to rows\n",
    "x_test = X_test[idx_test,:]\n",
    "y_test = Y_test[idx_test]\n",
    "\n",
    "y_test[ y_test<0.5 ] = -1\n",
    "\n",
    "n_test, d_test = x_test.shape\n",
    "\n",
    "print(\"choose {} samples from the test set\".format(int(n_sample_test*N_test)))\n",
    "print(\"x_test: \", x_test.shape)\n",
    "print(\"y_test: \", y_test.shape)\n",
    "print(n_test, d_test)"
   ]
  },
  {
   "cell_type": "markdown",
   "metadata": {
    "collapsed": true
   },
   "source": [
    "# toy training dataset\n",
    "dataset = [\n",
    "    [1,2,3,4,5],\n",
    "    [1,3,4,5,6],\n",
    "    [1,3,4,5,3],\n",
    "    [1,1,2,3,3],\n",
    "    [0,1,5,4,5],\n",
    "    [0,3,5,1,3],\n",
    "    [0,2,3,5,1]\n",
    "]\n",
    "\n",
    "data = np.array(dataset)"
   ]
  },
  {
   "cell_type": "markdown",
   "metadata": {
    "collapsed": false
   },
   "source": [
    "# split toy training data into samples and labels\n",
    "\n",
    "x_train = data[:,1:]\n",
    "y_train = data[:,0]\n",
    "\n",
    "# get the size of the data\n",
    "N,D = x_train.shape\n",
    "\n",
    "print(\"Data has {} samples and {} features\".format(N, D))\n",
    "print(\"training data size:\", x_train.shape)\n",
    "print(\"training label:\", y_train.shape)"
   ]
  },
  {
   "cell_type": "markdown",
   "metadata": {
    "collapsed": true
   },
   "source": [
    "# test data\n",
    "dataset_test = [\n",
    "    [1,4,5,63,5],\n",
    "    [1,7,22,1,4],\n",
    "    [0,3,4,1,5],\n",
    "    [0,66,3,2,1]\n",
    "]\n",
    "\n",
    "data_test = np.array(dataset_test)"
   ]
  },
  {
   "cell_type": "markdown",
   "metadata": {
    "collapsed": false
   },
   "source": [
    "# split test data into samples and labels\n",
    "\n",
    "x_test = data_test[:,1:]\n",
    "y_test = data_test[:,0]\n",
    "\n",
    "# get the size of the data\n",
    "N_test,D_test = x_test.shape\n",
    "\n",
    "print(\"Data has {} samples and {} features\".format(N_test, D_test))\n",
    "print(\"test data size:\", x_test.shape)\n",
    "print(\"test label:\", y_test.shape)"
   ]
  },
  {
   "cell_type": "code",
   "execution_count": 94,
   "metadata": {
    "collapsed": false
   },
   "outputs": [
    {
     "name": "stdout",
     "output_type": "stream",
     "text": [
      "w_mu size:    (8192,)\n",
      "w_sigma size: (8192, 8192)\n"
     ]
    }
   ],
   "source": [
    "# Initialize Weight\n",
    "w_mu = np.zeros(d)\n",
    "w_sigma = np.eye(d)\n",
    "\n",
    "#Intialize noise\n",
    "sigma_square = 0.1**2\n",
    "\n",
    "print(\"w_mu size:   \", w_mu.shape)\n",
    "print(\"w_sigma size:\", w_sigma.shape)"
   ]
  },
  {
   "cell_type": "code",
   "execution_count": 95,
   "metadata": {
    "collapsed": false
   },
   "outputs": [
    {
     "name": "stdout",
     "output_type": "stream",
     "text": [
      "w_mu_posterior:  [-0.02289741 -0.96913191 -5.43937517 ..., -2.79184591 -5.59072107\n",
      "  3.10900686]\n",
      "w_sigma_posterior:  [[  9.99064710e-01  -2.58150003e-04   2.06377928e-04 ...,   1.09940381e-04\n",
      "    4.72501324e-04   1.55509846e-04]\n",
      " [ -2.58150003e-04   9.60844120e-01   9.10260293e-03 ...,   4.51232291e-03\n",
      "    3.41459814e-03   3.09965906e-03]\n",
      " [  2.06377928e-04   9.10260293e-03   5.68895143e-01 ...,  -3.30922907e-03\n",
      "    8.02347366e-04   5.11615067e-03]\n",
      " ..., \n",
      " [  1.09940381e-04   4.51232291e-03  -3.30922907e-03 ...,   9.08416122e-01\n",
      "   -2.35014398e-03   6.96220569e-03]\n",
      " [  4.72501324e-04   3.41459814e-03   8.02347366e-04 ...,  -2.35014398e-03\n",
      "    1.94692703e-01  -5.60217605e-02]\n",
      " [  1.55509846e-04   3.09965906e-03   5.11615067e-03 ...,   6.96220569e-03\n",
      "   -5.60217605e-02   1.34066005e-01]]\n"
     ]
    }
   ],
   "source": [
    "# posterior\n",
    "w_mu_posterior = w_mu + \\\n",
    "                    w_sigma@x_train.T @ \\\n",
    "                    inv(x_train@w_sigma@x_train.T + sigma_square*np.eye(n)) @ \\\n",
    "                    (y_train - x_train@w_mu)\n",
    "w_sigma_posterior = w_sigma - \\\n",
    "                    w_sigma@x_train.T @ \\\n",
    "                    inv(x_train@w_sigma@x_train.T + sigma_square*np.eye(n)) @x_train@w_sigma\n",
    "    \n",
    "print(\"w_mu_posterior: \", w_mu_posterior)\n",
    "print(\"w_sigma_posterior: \", w_sigma_posterior)"
   ]
  },
  {
   "cell_type": "code",
   "execution_count": 99,
   "metadata": {
    "collapsed": false
   },
   "outputs": [
    {
     "name": "stdout",
     "output_type": "stream",
     "text": [
      "y_star_mu_posterior:  [ 0.23734223  2.1349341   0.90198517 ...,  0.24787628  0.76167389\n",
      " -0.67843944]\n",
      "y_star_sigma_posterior:  [[  4.89688684e-02  -9.81767393e-04  -1.38524168e-03 ...,   3.53249954e-05\n",
      "   -3.31431345e-04   1.22145376e-03]\n",
      " [ -9.81767382e-04   6.69738413e-02   8.74308725e-04 ...,   1.51620115e-03\n",
      "    1.35595820e-03  -1.14273732e-03]\n",
      " [ -1.38524168e-03   8.74308714e-04   1.98780468e-01 ...,   1.54458849e-03\n",
      "    2.47033605e-03   1.05513430e-03]\n",
      " ..., \n",
      " [  3.53248700e-05   1.51620103e-03   1.54458837e-03 ...,   5.56676378e-02\n",
      "   -4.70725726e-04   7.05495363e-05]\n",
      " [ -3.31431415e-04   1.35595813e-03   2.47033598e-03 ...,  -4.70725674e-04\n",
      "    5.68029381e-02  -1.05741396e-03]\n",
      " [  1.22145376e-03  -1.14273734e-03   1.05513429e-03 ...,   7.05496434e-05\n",
      "   -1.05741390e-03   2.89229433e-02]]\n",
      "var:  [ 0.22128911  0.25879305  0.44584803 ...,  0.2359399   0.23833367\n",
      "  0.17006747]\n"
     ]
    }
   ],
   "source": [
    "# prediction\n",
    "y_star_mu_posterior = x_test@w_mu_posterior\n",
    "y_star_sigma_posterior = x_test@w_sigma_posterior@x_test.T + \\\n",
    "                            sigma_square*np.eye(n_test)\n",
    "\n",
    "var = np.sqrt(y_star_sigma_posterior.diagonal())\n",
    "\n",
    "print(\"y_star_mu_posterior: \", y_star_mu_posterior)\n",
    "print(\"y_star_sigma_posterior: \", y_star_sigma_posterior)\n",
    "print(\"var: \", var)"
   ]
  },
  {
   "cell_type": "code",
   "execution_count": 100,
   "metadata": {
    "collapsed": false
   },
   "outputs": [
    {
     "name": "stdout",
     "output_type": "stream",
     "text": [
      "accuaracy =  0.524166666667\n"
     ]
    }
   ],
   "source": [
    "# fixed threshold\n",
    "\n",
    "# get the prediction\n",
    "threshold = 0\n",
    "\n",
    "predictions = y_star_mu_posterior.copy()\n",
    "predictions[ predictions<threshold ] = -1\n",
    "predictions[ predictions>=threshold ] = 1\n",
    "\n",
    "# compare predictions to true label\n",
    "n_correct = sum(predictions == y_test)\n",
    "\n",
    "print(\"accuaracy = \", n_correct/n_test)"
   ]
  },
  {
   "cell_type": "code",
   "execution_count": 108,
   "metadata": {
    "collapsed": false
   },
   "outputs": [
    {
     "name": "stdout",
     "output_type": "stream",
     "text": [
      "best accuracy is :  0.534166666667\n",
      "best threshold is:  0.2\n"
     ]
    }
   ],
   "source": [
    "# find best threshold\n",
    "max_correct, best_threshold = 0, 0\n",
    "record_correct = []\n",
    "for threshold in np.arange(-2,2,0.1):\n",
    "    predictions = y_star_mu_posterior.copy()\n",
    "    predictions[ predictions<threshold ] = -1\n",
    "    predictions[ predictions>=threshold ] = 1\n",
    "    n_correct = sum(predictions == y_test)\n",
    "    record_correct.append( n_correct )\n",
    "    if n_correct > max_correct:\n",
    "        max_correct = n_correct\n",
    "        best_threshold = threshold\n",
    "    \n",
    "record_correct = np.array( record_correct )\n",
    "print( \"best accuracy is : \", max_correct/n_test )\n",
    "print( \"best threshold is: \", best_threshold )"
   ]
  },
  {
   "cell_type": "code",
   "execution_count": 103,
   "metadata": {
    "collapsed": false
   },
   "outputs": [
    {
     "name": "stdout",
     "output_type": "stream",
     "text": [
      "[604 604 604 604 604 604 604 604 604 604 590 592 587 598 601 616 607 618\n",
      " 624 625 629 630 641 639 635 635 638 637 635 630 629 620 618 620 624 630\n",
      " 628 629 625 625]\n"
     ]
    },
    {
     "data": {
      "text/plain": [
       "[<matplotlib.lines.Line2D at 0x130537710>]"
      ]
     },
     "execution_count": 103,
     "metadata": {},
     "output_type": "execute_result"
    },
    {
     "data": {
      "image/png": "[encoded data removed]",
      "text/plain": [
       "<matplotlib.figure.Figure at 0x1322552e8>"
      ]
     },
     "metadata": {},
     "output_type": "display_data"
    }
   ],
   "source": [
    "# plot record of correctness w.r.t threshold\n",
    "print(record_correct)\n",
    "# print(record_correct)\n",
    "plt.plot(np.arange(-2,2,0.1), record_correct/n_test)"
   ]
  },
  {
   "cell_type": "code",
   "execution_count": 92,
   "metadata": {
    "collapsed": false
   },
   "outputs": [
    {
     "data": {
      "text/plain": [
       "<matplotlib.collections.PolyCollection at 0x132fac908>"
      ]
     },
     "execution_count": 92,
     "metadata": {},
     "output_type": "execute_result"
    },
    {
     "data": {
      "image/png": "[encoded data removed]",
      "text/plain": [
       "<matplotlib.figure.Figure at 0x131fba898>"
      ]
     },
     "metadata": {},
     "output_type": "display_data"
    }
   ],
   "source": [
    "# plot\n",
    "x_index = [i for i in range(n_test)]\n",
    "plt.scatter(x_index, y_test, c='r', s=50, zorder=10)\n",
    "plt.plot(x_index, y_star_mu_posterior,'k', lw=3, zorder=9)\n",
    "plt.fill_between(x_index, y_star_mu_posterior - 2*var, y_star_mu_posterior + 2*var, alpha=0.5, color='k')"
   ]
  }
 ],
 "metadata": {
  "kernelspec": {
   "display_name": "Python 3",
   "language": "python",
   "name": "python3"
  },
  "language_info": {
   "codemirror_mode": {
    "name": "ipython",
    "version": 3
   },
   "file_extension": ".py",
   "mimetype": "text/x-python",
   "name": "python",
   "nbconvert_exporter": "python",
   "pygments_lexer": "ipython3",
   "version": "3.6.0"
  }
 },
 "nbformat": 4,
 "nbformat_minor": 2
}
